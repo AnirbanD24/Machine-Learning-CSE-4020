{
 "cells": [
  {
   "cell_type": "markdown",
   "id": "c0df96fd",
   "metadata": {},
   "source": [
    "# NAME - ANIBBAN DUTTA\n",
    "# REG NO. - 19BCB0015"
   ]
  },
  {
   "cell_type": "markdown",
   "id": "05ff8ddb",
   "metadata": {},
   "source": [
    "# Importing the required libraries\n"
   ]
  },
  {
   "cell_type": "code",
   "execution_count": 1,
   "id": "6b613211",
   "metadata": {},
   "outputs": [],
   "source": [
    "import pandas as pd\n",
    "from sklearn.tree import DecisionTreeClassifier\n",
    "from sklearn.model_selection import train_test_split\n",
    "from sklearn import metrics"
   ]
  },
  {
   "cell_type": "markdown",
   "id": "f0a78ea6",
   "metadata": {},
   "source": [
    "# Importing and loading the dataset"
   ]
  },
  {
   "cell_type": "code",
   "execution_count": 2,
   "id": "d218621a",
   "metadata": {},
   "outputs": [
    {
     "name": "stdout",
     "output_type": "stream",
     "text": [
      "<class 'pandas.core.frame.DataFrame'>\n",
      "RangeIndex: 316800 entries, 0 to 316799\n",
      "Data columns (total 27 columns):\n",
      " #   Column                   Non-Null Count   Dtype \n",
      "---  ------                   --------------   ----- \n",
      " 0   Fever                    316800 non-null  int64 \n",
      " 1   Tiredness                316800 non-null  int64 \n",
      " 2   Dry-Cough                316800 non-null  int64 \n",
      " 3   Difficulty-in-Breathing  316800 non-null  int64 \n",
      " 4   Sore-Throat              316800 non-null  int64 \n",
      " 5   None_Sympton             316800 non-null  int64 \n",
      " 6   Pains                    316800 non-null  int64 \n",
      " 7   Nasal-Congestion         316800 non-null  int64 \n",
      " 8   Runny-Nose               316800 non-null  int64 \n",
      " 9   Diarrhea                 316800 non-null  int64 \n",
      " 10  None_Experiencing        316800 non-null  int64 \n",
      " 11  Age_0-9                  316800 non-null  int64 \n",
      " 12  Age_10-19                316800 non-null  int64 \n",
      " 13  Age_20-24                316800 non-null  int64 \n",
      " 14  Age_25-59                316800 non-null  int64 \n",
      " 15  Age_60+                  316800 non-null  int64 \n",
      " 16  Gender_Female            316800 non-null  int64 \n",
      " 17  Gender_Male              316800 non-null  int64 \n",
      " 18  Gender_Transgender       316800 non-null  int64 \n",
      " 19  Severity_Mild            316800 non-null  int64 \n",
      " 20  Severity_Moderate        316800 non-null  int64 \n",
      " 21  Severity_None            316800 non-null  int64 \n",
      " 22  Severity_Severe          316800 non-null  int64 \n",
      " 23  Contact_Dont-Know        316800 non-null  int64 \n",
      " 24  Contact_No               316800 non-null  int64 \n",
      " 25  Contact_Yes              316800 non-null  int64 \n",
      " 26  Country                  316800 non-null  object\n",
      "dtypes: int64(26), object(1)\n",
      "memory usage: 65.3+ MB\n",
      "Index(['Fever', 'Tiredness', 'Dry-Cough', 'Difficulty-in-Breathing',\n",
      "       'Sore-Throat', 'None_Sympton', 'Pains', 'Nasal-Congestion',\n",
      "       'Runny-Nose', 'Diarrhea', 'None_Experiencing', 'Age_0-9', 'Age_10-19',\n",
      "       'Age_20-24', 'Age_25-59', 'Age_60+', 'Gender_Female', 'Gender_Male',\n",
      "       'Gender_Transgender', 'Severity_Mild', 'Severity_Moderate',\n",
      "       'Severity_None', 'Severity_Severe', 'Contact_Dont-Know', 'Contact_No',\n",
      "       'Contact_Yes', 'Country'],\n",
      "      dtype='object')\n"
     ]
    }
   ],
   "source": [
    "df=pd.read_csv(\"Covid19.csv\")\n",
    "df.info()\n",
    "print(df.columns)"
   ]
  },
  {
   "cell_type": "code",
   "execution_count": 3,
   "id": "504ada16",
   "metadata": {},
   "outputs": [
    {
     "data": {
      "text/html": [
       "<div>\n",
       "<style scoped>\n",
       "    .dataframe tbody tr th:only-of-type {\n",
       "        vertical-align: middle;\n",
       "    }\n",
       "\n",
       "    .dataframe tbody tr th {\n",
       "        vertical-align: top;\n",
       "    }\n",
       "\n",
       "    .dataframe thead th {\n",
       "        text-align: right;\n",
       "    }\n",
       "</style>\n",
       "<table border=\"1\" class=\"dataframe\">\n",
       "  <thead>\n",
       "    <tr style=\"text-align: right;\">\n",
       "      <th></th>\n",
       "      <th>Fever</th>\n",
       "      <th>Tiredness</th>\n",
       "      <th>Dry-Cough</th>\n",
       "      <th>Difficulty-in-Breathing</th>\n",
       "      <th>Sore-Throat</th>\n",
       "      <th>None_Sympton</th>\n",
       "      <th>Pains</th>\n",
       "      <th>Nasal-Congestion</th>\n",
       "      <th>Runny-Nose</th>\n",
       "      <th>Diarrhea</th>\n",
       "      <th>...</th>\n",
       "      <th>Gender_Male</th>\n",
       "      <th>Gender_Transgender</th>\n",
       "      <th>Severity_Mild</th>\n",
       "      <th>Severity_Moderate</th>\n",
       "      <th>Severity_None</th>\n",
       "      <th>Severity_Severe</th>\n",
       "      <th>Contact_Dont-Know</th>\n",
       "      <th>Contact_No</th>\n",
       "      <th>Contact_Yes</th>\n",
       "      <th>Country</th>\n",
       "    </tr>\n",
       "  </thead>\n",
       "  <tbody>\n",
       "    <tr>\n",
       "      <th>0</th>\n",
       "      <td>1</td>\n",
       "      <td>1</td>\n",
       "      <td>1</td>\n",
       "      <td>1</td>\n",
       "      <td>1</td>\n",
       "      <td>0</td>\n",
       "      <td>1</td>\n",
       "      <td>1</td>\n",
       "      <td>1</td>\n",
       "      <td>1</td>\n",
       "      <td>...</td>\n",
       "      <td>1</td>\n",
       "      <td>0</td>\n",
       "      <td>1</td>\n",
       "      <td>0</td>\n",
       "      <td>0</td>\n",
       "      <td>0</td>\n",
       "      <td>0</td>\n",
       "      <td>0</td>\n",
       "      <td>1</td>\n",
       "      <td>China</td>\n",
       "    </tr>\n",
       "    <tr>\n",
       "      <th>1</th>\n",
       "      <td>1</td>\n",
       "      <td>1</td>\n",
       "      <td>1</td>\n",
       "      <td>1</td>\n",
       "      <td>1</td>\n",
       "      <td>0</td>\n",
       "      <td>1</td>\n",
       "      <td>1</td>\n",
       "      <td>1</td>\n",
       "      <td>1</td>\n",
       "      <td>...</td>\n",
       "      <td>1</td>\n",
       "      <td>0</td>\n",
       "      <td>1</td>\n",
       "      <td>0</td>\n",
       "      <td>0</td>\n",
       "      <td>0</td>\n",
       "      <td>0</td>\n",
       "      <td>1</td>\n",
       "      <td>0</td>\n",
       "      <td>China</td>\n",
       "    </tr>\n",
       "    <tr>\n",
       "      <th>2</th>\n",
       "      <td>1</td>\n",
       "      <td>1</td>\n",
       "      <td>1</td>\n",
       "      <td>1</td>\n",
       "      <td>1</td>\n",
       "      <td>0</td>\n",
       "      <td>1</td>\n",
       "      <td>1</td>\n",
       "      <td>1</td>\n",
       "      <td>1</td>\n",
       "      <td>...</td>\n",
       "      <td>1</td>\n",
       "      <td>0</td>\n",
       "      <td>1</td>\n",
       "      <td>0</td>\n",
       "      <td>0</td>\n",
       "      <td>0</td>\n",
       "      <td>1</td>\n",
       "      <td>0</td>\n",
       "      <td>0</td>\n",
       "      <td>China</td>\n",
       "    </tr>\n",
       "    <tr>\n",
       "      <th>3</th>\n",
       "      <td>1</td>\n",
       "      <td>1</td>\n",
       "      <td>1</td>\n",
       "      <td>1</td>\n",
       "      <td>1</td>\n",
       "      <td>0</td>\n",
       "      <td>1</td>\n",
       "      <td>1</td>\n",
       "      <td>1</td>\n",
       "      <td>1</td>\n",
       "      <td>...</td>\n",
       "      <td>1</td>\n",
       "      <td>0</td>\n",
       "      <td>0</td>\n",
       "      <td>1</td>\n",
       "      <td>0</td>\n",
       "      <td>0</td>\n",
       "      <td>0</td>\n",
       "      <td>0</td>\n",
       "      <td>1</td>\n",
       "      <td>China</td>\n",
       "    </tr>\n",
       "    <tr>\n",
       "      <th>4</th>\n",
       "      <td>1</td>\n",
       "      <td>1</td>\n",
       "      <td>1</td>\n",
       "      <td>1</td>\n",
       "      <td>1</td>\n",
       "      <td>0</td>\n",
       "      <td>1</td>\n",
       "      <td>1</td>\n",
       "      <td>1</td>\n",
       "      <td>1</td>\n",
       "      <td>...</td>\n",
       "      <td>1</td>\n",
       "      <td>0</td>\n",
       "      <td>0</td>\n",
       "      <td>1</td>\n",
       "      <td>0</td>\n",
       "      <td>0</td>\n",
       "      <td>0</td>\n",
       "      <td>1</td>\n",
       "      <td>0</td>\n",
       "      <td>China</td>\n",
       "    </tr>\n",
       "  </tbody>\n",
       "</table>\n",
       "<p>5 rows × 27 columns</p>\n",
       "</div>"
      ],
      "text/plain": [
       "   Fever  Tiredness  Dry-Cough  Difficulty-in-Breathing  Sore-Throat  \\\n",
       "0      1          1          1                        1            1   \n",
       "1      1          1          1                        1            1   \n",
       "2      1          1          1                        1            1   \n",
       "3      1          1          1                        1            1   \n",
       "4      1          1          1                        1            1   \n",
       "\n",
       "   None_Sympton  Pains  Nasal-Congestion  Runny-Nose  Diarrhea  ...  \\\n",
       "0             0      1                 1           1         1  ...   \n",
       "1             0      1                 1           1         1  ...   \n",
       "2             0      1                 1           1         1  ...   \n",
       "3             0      1                 1           1         1  ...   \n",
       "4             0      1                 1           1         1  ...   \n",
       "\n",
       "   Gender_Male  Gender_Transgender  Severity_Mild  Severity_Moderate  \\\n",
       "0            1                   0              1                  0   \n",
       "1            1                   0              1                  0   \n",
       "2            1                   0              1                  0   \n",
       "3            1                   0              0                  1   \n",
       "4            1                   0              0                  1   \n",
       "\n",
       "   Severity_None  Severity_Severe  Contact_Dont-Know  Contact_No  Contact_Yes  \\\n",
       "0              0                0                  0           0            1   \n",
       "1              0                0                  0           1            0   \n",
       "2              0                0                  1           0            0   \n",
       "3              0                0                  0           0            1   \n",
       "4              0                0                  0           1            0   \n",
       "\n",
       "   Country  \n",
       "0    China  \n",
       "1    China  \n",
       "2    China  \n",
       "3    China  \n",
       "4    China  \n",
       "\n",
       "[5 rows x 27 columns]"
      ]
     },
     "execution_count": 3,
     "metadata": {},
     "output_type": "execute_result"
    }
   ],
   "source": [
    "df.head()"
   ]
  },
  {
   "cell_type": "markdown",
   "id": "bc2f1a71",
   "metadata": {},
   "source": [
    "# Preparing input and target features"
   ]
  },
  {
   "cell_type": "code",
   "execution_count": 4,
   "id": "6a693793",
   "metadata": {},
   "outputs": [
    {
     "name": "stdout",
     "output_type": "stream",
     "text": [
      "        Fever  Tiredness  Dry-Cough  Difficulty-in-Breathing  Sore-Throat  \\\n",
      "0           1          1          1                        1            1   \n",
      "1           1          1          1                        1            1   \n",
      "2           1          1          1                        1            1   \n",
      "3           1          1          1                        1            1   \n",
      "4           1          1          1                        1            1   \n",
      "...       ...        ...        ...                      ...          ...   \n",
      "316795      0          0          0                        0            0   \n",
      "316796      0          0          0                        0            0   \n",
      "316797      0          0          0                        0            0   \n",
      "316798      0          0          0                        0            0   \n",
      "316799      0          0          0                        0            0   \n",
      "\n",
      "        Nasal-Congestion  Runny-Nose  Diarrhea  \n",
      "0                      1           1         1  \n",
      "1                      1           1         1  \n",
      "2                      1           1         1  \n",
      "3                      1           1         1  \n",
      "4                      1           1         1  \n",
      "...                  ...         ...       ...  \n",
      "316795                 0           0         0  \n",
      "316796                 0           0         0  \n",
      "316797                 0           0         0  \n",
      "316798                 0           0         0  \n",
      "316799                 0           0         0  \n",
      "\n",
      "[316800 rows x 8 columns]\n",
      "0         1\n",
      "1         1\n",
      "2         1\n",
      "3         1\n",
      "4         1\n",
      "         ..\n",
      "316795    1\n",
      "316796    1\n",
      "316797    0\n",
      "316798    0\n",
      "316799    0\n",
      "Name: Condition, Length: 316800, dtype: int64\n"
     ]
    }
   ],
   "source": [
    "# Input features\n",
    "feature_cols=['Fever', 'Tiredness', 'Dry-Cough', 'Difficulty-in-Breathing',\n",
    "'Sore-Throat', 'Nasal-Congestion','Runny-Nose', 'Diarrhea']\n",
    "X=df[feature_cols]\n",
    "print(X)\n",
    "\n",
    "# Target features\n",
    "severity_columns = df.filter(like='Severity_').columns\n",
    "df['Severity_None'].replace({1:'None',0:'No'},inplace =True)\n",
    "df['Severity_Mild'].replace({1:'Mild',0:'No'},inplace =True)\n",
    "df['Severity_Moderate'].replace({1:'Moderate',0:'No'},inplace =True)\n",
    "df['Severity_Severe'].replace({1:'Severe',0:'No'},inplace =True)\n",
    "df['Condition']=df[severity_columns].values.tolist()\n",
    "def removing(list1):\n",
    "    list1 = set(list1) \n",
    "    list1.discard(\"No\")\n",
    "    a = ''.join(list1)\n",
    "    return a\n",
    "df['Condition'] = df['Condition'].apply(removing)\n",
    "# Here i am categoring all mild,moderate,severe as positive cases and none and negative case\n",
    "df['Condition'].replace({'Mild':1,'None':0,'Moderate':1,'Severe':1},inplace =True)\n",
    "y=df['Condition']\n",
    "print(y)"
   ]
  },
  {
   "cell_type": "markdown",
   "id": "81944697",
   "metadata": {},
   "source": [
    "# Splitting X and y into training and testing sets"
   ]
  },
  {
   "cell_type": "code",
   "execution_count": 5,
   "id": "1d336fd4",
   "metadata": {},
   "outputs": [],
   "source": [
    "X_train, X_test, y_train, y_test =  train_test_split(X, y, random_state= 44, train_size = 0.8)"
   ]
  },
  {
   "cell_type": "markdown",
   "id": "d4b5ad69",
   "metadata": {},
   "source": [
    "# Training the decision tree classifier and predicting labels on test data"
   ]
  },
  {
   "cell_type": "code",
   "execution_count": 6,
   "id": "660442ae",
   "metadata": {},
   "outputs": [],
   "source": [
    "classifier = DecisionTreeClassifier(criterion='entropy')\n",
    "classifier.fit(X_train,y_train)\n",
    "y_pred = classifier.predict(X_test)"
   ]
  },
  {
   "cell_type": "markdown",
   "id": "2aa92552",
   "metadata": {},
   "source": [
    "# Calculating Accuracy"
   ]
  },
  {
   "cell_type": "code",
   "execution_count": 7,
   "id": "d6402d29",
   "metadata": {},
   "outputs": [
    {
     "name": "stdout",
     "output_type": "stream",
     "text": [
      "Accuracy Score on Test Data: 0.7499368686868687\n"
     ]
    }
   ],
   "source": [
    "print('Accuracy Score on Test Data:', metrics.accuracy_score(y_test,y_pred))"
   ]
  },
  {
   "cell_type": "markdown",
   "id": "a53e0021",
   "metadata": {},
   "source": [
    "# Confusion Matrix"
   ]
  },
  {
   "cell_type": "code",
   "execution_count": 8,
   "id": "eb6ed938",
   "metadata": {},
   "outputs": [
    {
     "name": "stdout",
     "output_type": "stream",
     "text": [
      "[[    0 15844]\n",
      " [    0 47516]]\n"
     ]
    }
   ],
   "source": [
    "cf = metrics.confusion_matrix(y_test, y_pred)\n",
    "print(cf)"
   ]
  },
  {
   "cell_type": "code",
   "execution_count": 9,
   "id": "b21da4f4",
   "metadata": {},
   "outputs": [
    {
     "name": "stdout",
     "output_type": "stream",
     "text": [
      "0.7499368686868687\n",
      "Accuracy Score on confusion_matrix:  0.7499368686868687\n"
     ]
    }
   ],
   "source": [
    "TP=cf[1,1]\n",
    "TN=cf[0,0]\n",
    "FP=cf[0,1]\n",
    "FN=cf[1,0]\n",
    "\n",
    "print((TP+TN)/float(TP+TN+FP+FN))\n",
    "print('Accuracy Score on confusion_matrix: ',metrics.accuracy_score(y_test,y_pred))"
   ]
  },
  {
   "cell_type": "code",
   "execution_count": 10,
   "id": "7f800393",
   "metadata": {
    "scrolled": true
   },
   "outputs": [
    {
     "name": "stdout",
     "output_type": "stream",
     "text": [
      "Error score on confusion matrix:  0.2500631313131313\n",
      "Sensitivity score on confusion matrix:  1.0\n",
      "Specificity score on confusion matrix: 0.0\n",
      "Precision score on confusion matrix: 0.7499368686868687\n"
     ]
    }
   ],
   "source": [
    "classification_error=(FP+FN)/float(TP+TN+FP+FN)\n",
    "#print(classification_error)\n",
    "print('Error score on confusion matrix: ',1-metrics.accuracy_score(y_test,y_pred))\n",
    "\n",
    "sensitivity=TP/float(FN+TP)\n",
    "#print(sensitivity)\n",
    "print('Sensitivity score on confusion matrix: ',metrics.recall_score(y_test,y_pred))\n",
    "\n",
    "specificity=TN/(TN+FP)\n",
    "#print(specificity)\n",
    "print('Specificity score on confusion matrix:',specificity)\n",
    "\n",
    "precision=TP/float(TP+FP)\n",
    "#print(precision)\n",
    "print('Precision score on confusion matrix:',metrics.precision_score(y_test,y_pred))"
   ]
  }
 ],
 "metadata": {
  "kernelspec": {
   "display_name": "Python 3",
   "language": "python",
   "name": "python3"
  },
  "language_info": {
   "codemirror_mode": {
    "name": "ipython",
    "version": 3
   },
   "file_extension": ".py",
   "mimetype": "text/x-python",
   "name": "python",
   "nbconvert_exporter": "python",
   "pygments_lexer": "ipython3",
   "version": "3.8.8"
  }
 },
 "nbformat": 4,
 "nbformat_minor": 5
}
