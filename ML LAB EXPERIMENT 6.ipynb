{
 "cells": [
  {
   "cell_type": "markdown",
   "id": "7f863634",
   "metadata": {},
   "source": [
    "# NAME - ANIBBAN DUTTA\n",
    "# REG NO. - 19BCB0015"
   ]
  },
  {
   "cell_type": "markdown",
   "id": "57762379",
   "metadata": {},
   "source": [
    "# Importing some of the required libraries"
   ]
  },
  {
   "cell_type": "code",
   "execution_count": 1,
   "id": "57e99160",
   "metadata": {},
   "outputs": [],
   "source": [
    "import pandas as pd\n",
    "import numpy as np\n",
    "import matplotlib.pyplot as plt\n",
    "import seaborn as sns\n",
    "import sklearn"
   ]
  },
  {
   "cell_type": "markdown",
   "id": "e5d724b6",
   "metadata": {},
   "source": [
    "# Importing and loading the digits dataset from sklearn"
   ]
  },
  {
   "cell_type": "code",
   "execution_count": 2,
   "id": "67d4e29a",
   "metadata": {},
   "outputs": [
    {
     "data": {
      "text/plain": [
       "{'data': array([[ 0.,  0.,  5., ...,  0.,  0.,  0.],\n",
       "        [ 0.,  0.,  0., ..., 10.,  0.,  0.],\n",
       "        [ 0.,  0.,  0., ..., 16.,  9.,  0.],\n",
       "        ...,\n",
       "        [ 0.,  0.,  1., ...,  6.,  0.,  0.],\n",
       "        [ 0.,  0.,  2., ..., 12.,  0.,  0.],\n",
       "        [ 0.,  0., 10., ..., 12.,  1.,  0.]]),\n",
       " 'target': array([0, 1, 2, ..., 8, 9, 8]),\n",
       " 'frame': None,\n",
       " 'feature_names': ['pixel_0_0',\n",
       "  'pixel_0_1',\n",
       "  'pixel_0_2',\n",
       "  'pixel_0_3',\n",
       "  'pixel_0_4',\n",
       "  'pixel_0_5',\n",
       "  'pixel_0_6',\n",
       "  'pixel_0_7',\n",
       "  'pixel_1_0',\n",
       "  'pixel_1_1',\n",
       "  'pixel_1_2',\n",
       "  'pixel_1_3',\n",
       "  'pixel_1_4',\n",
       "  'pixel_1_5',\n",
       "  'pixel_1_6',\n",
       "  'pixel_1_7',\n",
       "  'pixel_2_0',\n",
       "  'pixel_2_1',\n",
       "  'pixel_2_2',\n",
       "  'pixel_2_3',\n",
       "  'pixel_2_4',\n",
       "  'pixel_2_5',\n",
       "  'pixel_2_6',\n",
       "  'pixel_2_7',\n",
       "  'pixel_3_0',\n",
       "  'pixel_3_1',\n",
       "  'pixel_3_2',\n",
       "  'pixel_3_3',\n",
       "  'pixel_3_4',\n",
       "  'pixel_3_5',\n",
       "  'pixel_3_6',\n",
       "  'pixel_3_7',\n",
       "  'pixel_4_0',\n",
       "  'pixel_4_1',\n",
       "  'pixel_4_2',\n",
       "  'pixel_4_3',\n",
       "  'pixel_4_4',\n",
       "  'pixel_4_5',\n",
       "  'pixel_4_6',\n",
       "  'pixel_4_7',\n",
       "  'pixel_5_0',\n",
       "  'pixel_5_1',\n",
       "  'pixel_5_2',\n",
       "  'pixel_5_3',\n",
       "  'pixel_5_4',\n",
       "  'pixel_5_5',\n",
       "  'pixel_5_6',\n",
       "  'pixel_5_7',\n",
       "  'pixel_6_0',\n",
       "  'pixel_6_1',\n",
       "  'pixel_6_2',\n",
       "  'pixel_6_3',\n",
       "  'pixel_6_4',\n",
       "  'pixel_6_5',\n",
       "  'pixel_6_6',\n",
       "  'pixel_6_7',\n",
       "  'pixel_7_0',\n",
       "  'pixel_7_1',\n",
       "  'pixel_7_2',\n",
       "  'pixel_7_3',\n",
       "  'pixel_7_4',\n",
       "  'pixel_7_5',\n",
       "  'pixel_7_6',\n",
       "  'pixel_7_7'],\n",
       " 'target_names': array([0, 1, 2, 3, 4, 5, 6, 7, 8, 9]),\n",
       " 'images': array([[[ 0.,  0.,  5., ...,  1.,  0.,  0.],\n",
       "         [ 0.,  0., 13., ..., 15.,  5.,  0.],\n",
       "         [ 0.,  3., 15., ..., 11.,  8.,  0.],\n",
       "         ...,\n",
       "         [ 0.,  4., 11., ..., 12.,  7.,  0.],\n",
       "         [ 0.,  2., 14., ..., 12.,  0.,  0.],\n",
       "         [ 0.,  0.,  6., ...,  0.,  0.,  0.]],\n",
       " \n",
       "        [[ 0.,  0.,  0., ...,  5.,  0.,  0.],\n",
       "         [ 0.,  0.,  0., ...,  9.,  0.,  0.],\n",
       "         [ 0.,  0.,  3., ...,  6.,  0.,  0.],\n",
       "         ...,\n",
       "         [ 0.,  0.,  1., ...,  6.,  0.,  0.],\n",
       "         [ 0.,  0.,  1., ...,  6.,  0.,  0.],\n",
       "         [ 0.,  0.,  0., ..., 10.,  0.,  0.]],\n",
       " \n",
       "        [[ 0.,  0.,  0., ..., 12.,  0.,  0.],\n",
       "         [ 0.,  0.,  3., ..., 14.,  0.,  0.],\n",
       "         [ 0.,  0.,  8., ..., 16.,  0.,  0.],\n",
       "         ...,\n",
       "         [ 0.,  9., 16., ...,  0.,  0.,  0.],\n",
       "         [ 0.,  3., 13., ..., 11.,  5.,  0.],\n",
       "         [ 0.,  0.,  0., ..., 16.,  9.,  0.]],\n",
       " \n",
       "        ...,\n",
       " \n",
       "        [[ 0.,  0.,  1., ...,  1.,  0.,  0.],\n",
       "         [ 0.,  0., 13., ...,  2.,  1.,  0.],\n",
       "         [ 0.,  0., 16., ..., 16.,  5.,  0.],\n",
       "         ...,\n",
       "         [ 0.,  0., 16., ..., 15.,  0.,  0.],\n",
       "         [ 0.,  0., 15., ..., 16.,  0.,  0.],\n",
       "         [ 0.,  0.,  2., ...,  6.,  0.,  0.]],\n",
       " \n",
       "        [[ 0.,  0.,  2., ...,  0.,  0.,  0.],\n",
       "         [ 0.,  0., 14., ..., 15.,  1.,  0.],\n",
       "         [ 0.,  4., 16., ..., 16.,  7.,  0.],\n",
       "         ...,\n",
       "         [ 0.,  0.,  0., ..., 16.,  2.,  0.],\n",
       "         [ 0.,  0.,  4., ..., 16.,  2.,  0.],\n",
       "         [ 0.,  0.,  5., ..., 12.,  0.,  0.]],\n",
       " \n",
       "        [[ 0.,  0., 10., ...,  1.,  0.,  0.],\n",
       "         [ 0.,  2., 16., ...,  1.,  0.,  0.],\n",
       "         [ 0.,  0., 15., ..., 15.,  0.,  0.],\n",
       "         ...,\n",
       "         [ 0.,  4., 16., ..., 16.,  6.,  0.],\n",
       "         [ 0.,  8., 16., ..., 16.,  8.,  0.],\n",
       "         [ 0.,  1.,  8., ..., 12.,  1.,  0.]]]),\n",
       " 'DESCR': \".. _digits_dataset:\\n\\nOptical recognition of handwritten digits dataset\\n--------------------------------------------------\\n\\n**Data Set Characteristics:**\\n\\n    :Number of Instances: 1797\\n    :Number of Attributes: 64\\n    :Attribute Information: 8x8 image of integer pixels in the range 0..16.\\n    :Missing Attribute Values: None\\n    :Creator: E. Alpaydin (alpaydin '@' boun.edu.tr)\\n    :Date: July; 1998\\n\\nThis is a copy of the test set of the UCI ML hand-written digits datasets\\nhttps://archive.ics.uci.edu/ml/datasets/Optical+Recognition+of+Handwritten+Digits\\n\\nThe data set contains images of hand-written digits: 10 classes where\\neach class refers to a digit.\\n\\nPreprocessing programs made available by NIST were used to extract\\nnormalized bitmaps of handwritten digits from a preprinted form. From a\\ntotal of 43 people, 30 contributed to the training set and different 13\\nto the test set. 32x32 bitmaps are divided into nonoverlapping blocks of\\n4x4 and the number of on pixels are counted in each block. This generates\\nan input matrix of 8x8 where each element is an integer in the range\\n0..16. This reduces dimensionality and gives invariance to small\\ndistortions.\\n\\nFor info on NIST preprocessing routines, see M. D. Garris, J. L. Blue, G.\\nT. Candela, D. L. Dimmick, J. Geist, P. J. Grother, S. A. Janet, and C.\\nL. Wilson, NIST Form-Based Handprint Recognition System, NISTIR 5469,\\n1994.\\n\\n.. topic:: References\\n\\n  - C. Kaynak (1995) Methods of Combining Multiple Classifiers and Their\\n    Applications to Handwritten Digit Recognition, MSc Thesis, Institute of\\n    Graduate Studies in Science and Engineering, Bogazici University.\\n  - E. Alpaydin, C. Kaynak (1998) Cascading Classifiers, Kybernetika.\\n  - Ken Tang and Ponnuthurai N. Suganthan and Xi Yao and A. Kai Qin.\\n    Linear dimensionalityreduction using relevance weighted LDA. School of\\n    Electrical and Electronic Engineering Nanyang Technological University.\\n    2005.\\n  - Claudio Gentile. A New Approximate Maximal Margin Classification\\n    Algorithm. NIPS. 2000.\\n\"}"
      ]
     },
     "execution_count": 2,
     "metadata": {},
     "output_type": "execute_result"
    }
   ],
   "source": [
    "from sklearn.datasets import load_digits\n",
    "\n",
    "digit = load_digits()\n",
    "digit"
   ]
  },
  {
   "cell_type": "markdown",
   "id": "8a89c388",
   "metadata": {},
   "source": [
    "# Creating a data frame out of the digit data"
   ]
  },
  {
   "cell_type": "code",
   "execution_count": 3,
   "id": "4a2d2af9",
   "metadata": {},
   "outputs": [
    {
     "data": {
      "text/plain": [
       "(1797, 64)"
      ]
     },
     "execution_count": 3,
     "metadata": {},
     "output_type": "execute_result"
    }
   ],
   "source": [
    "df = pd.DataFrame(digit.data)\n",
    "df.shape"
   ]
  },
  {
   "cell_type": "code",
   "execution_count": 4,
   "id": "13995ec9",
   "metadata": {},
   "outputs": [
    {
     "name": "stdout",
     "output_type": "stream",
     "text": [
      "<class 'pandas.core.frame.DataFrame'>\n",
      "RangeIndex: 1797 entries, 0 to 1796\n",
      "Data columns (total 64 columns):\n",
      " #   Column  Non-Null Count  Dtype  \n",
      "---  ------  --------------  -----  \n",
      " 0   0       1797 non-null   float64\n",
      " 1   1       1797 non-null   float64\n",
      " 2   2       1797 non-null   float64\n",
      " 3   3       1797 non-null   float64\n",
      " 4   4       1797 non-null   float64\n",
      " 5   5       1797 non-null   float64\n",
      " 6   6       1797 non-null   float64\n",
      " 7   7       1797 non-null   float64\n",
      " 8   8       1797 non-null   float64\n",
      " 9   9       1797 non-null   float64\n",
      " 10  10      1797 non-null   float64\n",
      " 11  11      1797 non-null   float64\n",
      " 12  12      1797 non-null   float64\n",
      " 13  13      1797 non-null   float64\n",
      " 14  14      1797 non-null   float64\n",
      " 15  15      1797 non-null   float64\n",
      " 16  16      1797 non-null   float64\n",
      " 17  17      1797 non-null   float64\n",
      " 18  18      1797 non-null   float64\n",
      " 19  19      1797 non-null   float64\n",
      " 20  20      1797 non-null   float64\n",
      " 21  21      1797 non-null   float64\n",
      " 22  22      1797 non-null   float64\n",
      " 23  23      1797 non-null   float64\n",
      " 24  24      1797 non-null   float64\n",
      " 25  25      1797 non-null   float64\n",
      " 26  26      1797 non-null   float64\n",
      " 27  27      1797 non-null   float64\n",
      " 28  28      1797 non-null   float64\n",
      " 29  29      1797 non-null   float64\n",
      " 30  30      1797 non-null   float64\n",
      " 31  31      1797 non-null   float64\n",
      " 32  32      1797 non-null   float64\n",
      " 33  33      1797 non-null   float64\n",
      " 34  34      1797 non-null   float64\n",
      " 35  35      1797 non-null   float64\n",
      " 36  36      1797 non-null   float64\n",
      " 37  37      1797 non-null   float64\n",
      " 38  38      1797 non-null   float64\n",
      " 39  39      1797 non-null   float64\n",
      " 40  40      1797 non-null   float64\n",
      " 41  41      1797 non-null   float64\n",
      " 42  42      1797 non-null   float64\n",
      " 43  43      1797 non-null   float64\n",
      " 44  44      1797 non-null   float64\n",
      " 45  45      1797 non-null   float64\n",
      " 46  46      1797 non-null   float64\n",
      " 47  47      1797 non-null   float64\n",
      " 48  48      1797 non-null   float64\n",
      " 49  49      1797 non-null   float64\n",
      " 50  50      1797 non-null   float64\n",
      " 51  51      1797 non-null   float64\n",
      " 52  52      1797 non-null   float64\n",
      " 53  53      1797 non-null   float64\n",
      " 54  54      1797 non-null   float64\n",
      " 55  55      1797 non-null   float64\n",
      " 56  56      1797 non-null   float64\n",
      " 57  57      1797 non-null   float64\n",
      " 58  58      1797 non-null   float64\n",
      " 59  59      1797 non-null   float64\n",
      " 60  60      1797 non-null   float64\n",
      " 61  61      1797 non-null   float64\n",
      " 62  62      1797 non-null   float64\n",
      " 63  63      1797 non-null   float64\n",
      "dtypes: float64(64)\n",
      "memory usage: 898.6 KB\n"
     ]
    }
   ],
   "source": [
    "df.info()"
   ]
  },
  {
   "cell_type": "code",
   "execution_count": 5,
   "id": "bc863010",
   "metadata": {},
   "outputs": [
    {
     "data": {
      "text/html": [
       "<div>\n",
       "<style scoped>\n",
       "    .dataframe tbody tr th:only-of-type {\n",
       "        vertical-align: middle;\n",
       "    }\n",
       "\n",
       "    .dataframe tbody tr th {\n",
       "        vertical-align: top;\n",
       "    }\n",
       "\n",
       "    .dataframe thead th {\n",
       "        text-align: right;\n",
       "    }\n",
       "</style>\n",
       "<table border=\"1\" class=\"dataframe\">\n",
       "  <thead>\n",
       "    <tr style=\"text-align: right;\">\n",
       "      <th></th>\n",
       "      <th>0</th>\n",
       "      <th>1</th>\n",
       "      <th>2</th>\n",
       "      <th>3</th>\n",
       "      <th>4</th>\n",
       "      <th>5</th>\n",
       "      <th>6</th>\n",
       "      <th>7</th>\n",
       "      <th>8</th>\n",
       "      <th>9</th>\n",
       "      <th>...</th>\n",
       "      <th>54</th>\n",
       "      <th>55</th>\n",
       "      <th>56</th>\n",
       "      <th>57</th>\n",
       "      <th>58</th>\n",
       "      <th>59</th>\n",
       "      <th>60</th>\n",
       "      <th>61</th>\n",
       "      <th>62</th>\n",
       "      <th>63</th>\n",
       "    </tr>\n",
       "  </thead>\n",
       "  <tbody>\n",
       "    <tr>\n",
       "      <th>0</th>\n",
       "      <td>0.0</td>\n",
       "      <td>0.0</td>\n",
       "      <td>5.0</td>\n",
       "      <td>13.0</td>\n",
       "      <td>9.0</td>\n",
       "      <td>1.0</td>\n",
       "      <td>0.0</td>\n",
       "      <td>0.0</td>\n",
       "      <td>0.0</td>\n",
       "      <td>0.0</td>\n",
       "      <td>...</td>\n",
       "      <td>0.0</td>\n",
       "      <td>0.0</td>\n",
       "      <td>0.0</td>\n",
       "      <td>0.0</td>\n",
       "      <td>6.0</td>\n",
       "      <td>13.0</td>\n",
       "      <td>10.0</td>\n",
       "      <td>0.0</td>\n",
       "      <td>0.0</td>\n",
       "      <td>0.0</td>\n",
       "    </tr>\n",
       "    <tr>\n",
       "      <th>1</th>\n",
       "      <td>0.0</td>\n",
       "      <td>0.0</td>\n",
       "      <td>0.0</td>\n",
       "      <td>12.0</td>\n",
       "      <td>13.0</td>\n",
       "      <td>5.0</td>\n",
       "      <td>0.0</td>\n",
       "      <td>0.0</td>\n",
       "      <td>0.0</td>\n",
       "      <td>0.0</td>\n",
       "      <td>...</td>\n",
       "      <td>0.0</td>\n",
       "      <td>0.0</td>\n",
       "      <td>0.0</td>\n",
       "      <td>0.0</td>\n",
       "      <td>0.0</td>\n",
       "      <td>11.0</td>\n",
       "      <td>16.0</td>\n",
       "      <td>10.0</td>\n",
       "      <td>0.0</td>\n",
       "      <td>0.0</td>\n",
       "    </tr>\n",
       "    <tr>\n",
       "      <th>2</th>\n",
       "      <td>0.0</td>\n",
       "      <td>0.0</td>\n",
       "      <td>0.0</td>\n",
       "      <td>4.0</td>\n",
       "      <td>15.0</td>\n",
       "      <td>12.0</td>\n",
       "      <td>0.0</td>\n",
       "      <td>0.0</td>\n",
       "      <td>0.0</td>\n",
       "      <td>0.0</td>\n",
       "      <td>...</td>\n",
       "      <td>5.0</td>\n",
       "      <td>0.0</td>\n",
       "      <td>0.0</td>\n",
       "      <td>0.0</td>\n",
       "      <td>0.0</td>\n",
       "      <td>3.0</td>\n",
       "      <td>11.0</td>\n",
       "      <td>16.0</td>\n",
       "      <td>9.0</td>\n",
       "      <td>0.0</td>\n",
       "    </tr>\n",
       "    <tr>\n",
       "      <th>3</th>\n",
       "      <td>0.0</td>\n",
       "      <td>0.0</td>\n",
       "      <td>7.0</td>\n",
       "      <td>15.0</td>\n",
       "      <td>13.0</td>\n",
       "      <td>1.0</td>\n",
       "      <td>0.0</td>\n",
       "      <td>0.0</td>\n",
       "      <td>0.0</td>\n",
       "      <td>8.0</td>\n",
       "      <td>...</td>\n",
       "      <td>9.0</td>\n",
       "      <td>0.0</td>\n",
       "      <td>0.0</td>\n",
       "      <td>0.0</td>\n",
       "      <td>7.0</td>\n",
       "      <td>13.0</td>\n",
       "      <td>13.0</td>\n",
       "      <td>9.0</td>\n",
       "      <td>0.0</td>\n",
       "      <td>0.0</td>\n",
       "    </tr>\n",
       "    <tr>\n",
       "      <th>4</th>\n",
       "      <td>0.0</td>\n",
       "      <td>0.0</td>\n",
       "      <td>0.0</td>\n",
       "      <td>1.0</td>\n",
       "      <td>11.0</td>\n",
       "      <td>0.0</td>\n",
       "      <td>0.0</td>\n",
       "      <td>0.0</td>\n",
       "      <td>0.0</td>\n",
       "      <td>0.0</td>\n",
       "      <td>...</td>\n",
       "      <td>0.0</td>\n",
       "      <td>0.0</td>\n",
       "      <td>0.0</td>\n",
       "      <td>0.0</td>\n",
       "      <td>0.0</td>\n",
       "      <td>2.0</td>\n",
       "      <td>16.0</td>\n",
       "      <td>4.0</td>\n",
       "      <td>0.0</td>\n",
       "      <td>0.0</td>\n",
       "    </tr>\n",
       "  </tbody>\n",
       "</table>\n",
       "<p>5 rows × 64 columns</p>\n",
       "</div>"
      ],
      "text/plain": [
       "    0    1    2     3     4     5    6    7    8    9   ...   54   55   56  \\\n",
       "0  0.0  0.0  5.0  13.0   9.0   1.0  0.0  0.0  0.0  0.0  ...  0.0  0.0  0.0   \n",
       "1  0.0  0.0  0.0  12.0  13.0   5.0  0.0  0.0  0.0  0.0  ...  0.0  0.0  0.0   \n",
       "2  0.0  0.0  0.0   4.0  15.0  12.0  0.0  0.0  0.0  0.0  ...  5.0  0.0  0.0   \n",
       "3  0.0  0.0  7.0  15.0  13.0   1.0  0.0  0.0  0.0  8.0  ...  9.0  0.0  0.0   \n",
       "4  0.0  0.0  0.0   1.0  11.0   0.0  0.0  0.0  0.0  0.0  ...  0.0  0.0  0.0   \n",
       "\n",
       "    57   58    59    60    61   62   63  \n",
       "0  0.0  6.0  13.0  10.0   0.0  0.0  0.0  \n",
       "1  0.0  0.0  11.0  16.0  10.0  0.0  0.0  \n",
       "2  0.0  0.0   3.0  11.0  16.0  9.0  0.0  \n",
       "3  0.0  7.0  13.0  13.0   9.0  0.0  0.0  \n",
       "4  0.0  0.0   2.0  16.0   4.0  0.0  0.0  \n",
       "\n",
       "[5 rows x 64 columns]"
      ]
     },
     "execution_count": 5,
     "metadata": {},
     "output_type": "execute_result"
    }
   ],
   "source": [
    "df.head()"
   ]
  },
  {
   "cell_type": "markdown",
   "id": "0b9f5f06",
   "metadata": {},
   "source": [
    "# Visualizing the given data"
   ]
  },
  {
   "cell_type": "code",
   "execution_count": 6,
   "id": "0070dcab",
   "metadata": {},
   "outputs": [
    {
     "name": "stdout",
     "output_type": "stream",
     "text": [
      "1797\n",
      "[0 1 2 ... 8 9 8]\n"
     ]
    }
   ],
   "source": [
    "print(digit.target.size)\n",
    "print(digit.target)"
   ]
  },
  {
   "cell_type": "code",
   "execution_count": 7,
   "id": "3be7d01a",
   "metadata": {},
   "outputs": [
    {
     "data": {
      "text/plain": [
       "<AxesSubplot:ylabel='count'>"
      ]
     },
     "execution_count": 7,
     "metadata": {},
     "output_type": "execute_result"
    },
    {
     "data": {
      "image/png": "[encoded data removed]",
      "text/plain": [
       "<Figure size 432x288 with 1 Axes>"
      ]
     },
     "metadata": {
      "needs_background": "light"
     },
     "output_type": "display_data"
    }
   ],
   "source": [
    "## Visualizing the number of class and counts in the datasets\n",
    "sns.countplot(x=digit.target)"
   ]
  },
  {
   "cell_type": "markdown",
   "id": "0e8f4675",
   "metadata": {},
   "source": [
    "# Samples of digits!"
   ]
  },
  {
   "cell_type": "code",
   "execution_count": 8,
   "id": "c398f1fb",
   "metadata": {},
   "outputs": [
    {
     "data": {
      "image/png": "[encoded data removed]",
      "text/plain": [
       "<Figure size 720x216 with 4 Axes>"
      ]
     },
     "metadata": {
      "needs_background": "light"
     },
     "output_type": "display_data"
    }
   ],
   "source": [
    "_, axes = plt.subplots(nrows=1, ncols=4, figsize=(10, 3))\n",
    "for ax, image, label in zip(axes, digit.images, digit.target):\n",
    "    ax.set_axis_off()\n",
    "    ax.imshow(image, cmap=plt.cm.gray_r, interpolation='nearest')\n",
    "    ax.set_title('Training: %i' % label)"
   ]
  },
  {
   "cell_type": "markdown",
   "id": "e3045d7c",
   "metadata": {},
   "source": [
    "# Defining the attributes and labels"
   ]
  },
  {
   "cell_type": "code",
   "execution_count": 9,
   "id": "f2af4d9e",
   "metadata": {},
   "outputs": [
    {
     "name": "stdout",
     "output_type": "stream",
     "text": [
      "[[ 0.  0.  5. ...  0.  0.  0.]\n",
      " [ 0.  0.  0. ... 10.  0.  0.]\n",
      " [ 0.  0.  0. ... 16.  9.  0.]\n",
      " ...\n",
      " [ 0.  0.  1. ...  6.  0.  0.]\n",
      " [ 0.  0.  2. ... 12.  0.  0.]\n",
      " [ 0.  0. 10. ... 12.  1.  0.]]\n",
      "[0 1 2 ... 8 9 8]\n"
     ]
    }
   ],
   "source": [
    "#Classify data for features and target.\n",
    "#For featured convert into 2D array. Target is already given\n",
    "\n",
    "n_samples = len(digit.images)\n",
    "n_samples\n",
    "X = digit.images.reshape((n_samples, -1))\n",
    "print(X)\n",
    "y= digit.target\n",
    "print(y)"
   ]
  },
  {
   "cell_type": "markdown",
   "id": "8325bd24",
   "metadata": {},
   "source": [
    "# Splitting X and y into training and testing sets"
   ]
  },
  {
   "cell_type": "code",
   "execution_count": 10,
   "id": "c562479d",
   "metadata": {},
   "outputs": [
    {
     "name": "stdout",
     "output_type": "stream",
     "text": [
      "X_train shape: (1437, 64)\n",
      "y_train shape: (1437,)\n",
      "X_test shape: (360, 64)\n",
      "y_test shape: (360,)\n"
     ]
    }
   ],
   "source": [
    "from sklearn.model_selection import train_test_split\n",
    "X_train, X_test, y_train, y_test = train_test_split(X, y, test_size=0.2)\n",
    "\n",
    "print('X_train shape:',X_train.shape)\n",
    "print('y_train shape:',y_train.shape)\n",
    "print('X_test shape:',X_test.shape)\n",
    "print('y_test shape:',y_test.shape)"
   ]
  },
  {
   "cell_type": "markdown",
   "id": "abd5f428",
   "metadata": {},
   "source": [
    "#  Model Building"
   ]
  },
  {
   "cell_type": "markdown",
   "id": "0e6088b4",
   "metadata": {},
   "source": [
    "# Let us first try - Linear model:\n"
   ]
  },
  {
   "cell_type": "code",
   "execution_count": 11,
   "id": "3e3af872",
   "metadata": {},
   "outputs": [],
   "source": [
    "from sklearn.svm import SVC\n",
    "\n",
    "# linear model\n",
    "model_linear = SVC(kernel='linear')\n",
    "model_linear.fit(X_train, y_train)\n",
    "\n",
    "# predict\n",
    "y_pred = model_linear.predict(X_test)"
   ]
  },
  {
   "cell_type": "markdown",
   "id": "93710493",
   "metadata": {},
   "source": [
    "Testing the Linear Model (Accuracy)"
   ]
  },
  {
   "cell_type": "code",
   "execution_count": 12,
   "id": "dcb0e98e",
   "metadata": {},
   "outputs": [
    {
     "name": "stdout",
     "output_type": "stream",
     "text": [
      "accuracy: 0.9888888888888889\n"
     ]
    }
   ],
   "source": [
    "from sklearn import metrics\n",
    "from sklearn.metrics import confusion_matrix\n",
    "\n",
    "# accuracy\n",
    "print(\"accuracy:\", metrics.accuracy_score(y_true=y_test, y_pred=y_pred))"
   ]
  },
  {
   "cell_type": "markdown",
   "id": "74c7661c",
   "metadata": {},
   "source": [
    "Confusion Matrix:"
   ]
  },
  {
   "cell_type": "code",
   "execution_count": 13,
   "id": "8bbe2bfe",
   "metadata": {},
   "outputs": [
    {
     "name": "stdout",
     "output_type": "stream",
     "text": [
      "[[46  0  0  0  0  0  0  0  0  0]\n",
      " [ 0 30  0  0  0  0  0  0  0  1]\n",
      " [ 0  0 42  0  0  0  0  0  0  0]\n",
      " [ 0  0  0 36  0  1  0  0  0  0]\n",
      " [ 0  0  0  0 26  0  0  0  0  0]\n",
      " [ 0  0  0  0  0 41  0  0  0  0]\n",
      " [ 0  0  0  0  0  0 35  0  0  0]\n",
      " [ 0  0  0  0  0  0  0 46  0  0]\n",
      " [ 0  1  0  0  0  0  0  0 26  0]\n",
      " [ 0  0  0  0  0  0  0  0  1 28]]\n"
     ]
    }
   ],
   "source": [
    "cf=metrics.confusion_matrix(y_true=y_test, y_pred=y_pred)\n",
    "print(cf)"
   ]
  },
  {
   "cell_type": "code",
   "execution_count": 14,
   "id": "9c9b234f",
   "metadata": {},
   "outputs": [
    {
     "data": {
      "text/plain": [
       "Text(0.5, 15.0, 'Predicted')"
      ]
     },
     "execution_count": 14,
     "metadata": {},
     "output_type": "execute_result"
    },
    {
     "data": {
      "image/png": "[encoded data removed]",
      "text/plain": [
       "<Figure size 432x288 with 2 Axes>"
      ]
     },
     "metadata": {
      "needs_background": "light"
     },
     "output_type": "display_data"
    }
   ],
   "source": [
    "sns.heatmap(pd.DataFrame(cf), annot=True, cmap=\"YlGnBu\" ,fmt='g')\n",
    "plt.tight_layout()\n",
    "plt.title('Confusion matrix', y=1.1)\n",
    "plt.ylabel('Actual')\n",
    "plt.xlabel('Predicted')"
   ]
  },
  {
   "cell_type": "markdown",
   "id": "7fb310b1",
   "metadata": {},
   "source": [
    "Classification Report:"
   ]
  },
  {
   "cell_type": "code",
   "execution_count": 15,
   "id": "05384103",
   "metadata": {},
   "outputs": [
    {
     "name": "stdout",
     "output_type": "stream",
     "text": [
      "              precision    recall  f1-score   support\n",
      "\n",
      "           0       1.00      1.00      1.00        46\n",
      "           1       0.97      0.97      0.97        31\n",
      "           2       1.00      1.00      1.00        42\n",
      "           3       1.00      0.97      0.99        37\n",
      "           4       1.00      1.00      1.00        26\n",
      "           5       0.98      1.00      0.99        41\n",
      "           6       1.00      1.00      1.00        35\n",
      "           7       1.00      1.00      1.00        46\n",
      "           8       0.96      0.96      0.96        27\n",
      "           9       0.97      0.97      0.97        29\n",
      "\n",
      "    accuracy                           0.99       360\n",
      "   macro avg       0.99      0.99      0.99       360\n",
      "weighted avg       0.99      0.99      0.99       360\n",
      "\n"
     ]
    }
   ],
   "source": [
    "scores=metrics.classification_report(y_test, y_pred, labels=[0, 1, 2, 3, 4, 5, 6, 7, 8, 9])\n",
    "print(scores)"
   ]
  },
  {
   "cell_type": "markdown",
   "id": "e4cc9104",
   "metadata": {},
   "source": [
    "The linear model gives approx. 98.88% accuracy. Let's look at a non-linear model with randomly chosen hyperparameters."
   ]
  },
  {
   "cell_type": "markdown",
   "id": "827b61a7",
   "metadata": {},
   "source": [
    "# Let us try Non- linear models:"
   ]
  },
  {
   "cell_type": "markdown",
   "id": "f1ad1cb3",
   "metadata": {},
   "source": [
    "1) poly kernel\n"
   ]
  },
  {
   "cell_type": "code",
   "execution_count": 16,
   "id": "faadb42e",
   "metadata": {},
   "outputs": [],
   "source": [
    "# non-linear model\n",
    "# using poly kernel\n",
    "\n",
    "# model\n",
    "non_linear_model_poly = SVC(kernel='poly', degree=8)\n",
    "\n",
    "# fit\n",
    "non_linear_model_poly.fit(X_train, y_train)\n",
    "\n",
    "# predict\n",
    "y_pred = non_linear_model_poly.predict(X_test)"
   ]
  },
  {
   "cell_type": "code",
   "execution_count": 17,
   "id": "d7bdeec2",
   "metadata": {},
   "outputs": [
    {
     "name": "stdout",
     "output_type": "stream",
     "text": [
      "accuracy: 0.9694444444444444 \n",
      "\n",
      "[[46  0  0  0  0  0  0  0  0  0]\n",
      " [ 0 29  1  0  1  0  0  0  0  0]\n",
      " [ 0  0 42  0  0  0  0  0  0  0]\n",
      " [ 0  0  0 35  0  1  0  1  0  0]\n",
      " [ 0  0  0  0 25  0  0  1  0  0]\n",
      " [ 0  0  0  0  0 41  0  0  0  0]\n",
      " [ 0  1  0  0  0  0 34  0  0  0]\n",
      " [ 0  0  0  0  0  0  0 44  2  0]\n",
      " [ 0  1  0  1  0  0  0  0 25  0]\n",
      " [ 0  0  0  0  1  0  0  0  0 28]]\n"
     ]
    }
   ],
   "source": [
    "# confusion matrix and accuracy, precision, recall\n",
    "\n",
    "# accuracy\n",
    "print(\"accuracy:\", metrics.accuracy_score(y_true=y_test, y_pred=y_pred), \"\\n\")\n",
    "\n",
    "# cm\n",
    "print(metrics.confusion_matrix(y_true=y_test, y_pred=y_pred))"
   ]
  },
  {
   "cell_type": "markdown",
   "id": "68f364b5",
   "metadata": {},
   "source": [
    "The accuracy dropped to 96.94%, so obviously no point in going with polynomial. Let us now try 'rbf'."
   ]
  },
  {
   "cell_type": "markdown",
   "id": "d8ecb378",
   "metadata": {},
   "source": [
    "2) rbf kernel"
   ]
  },
  {
   "cell_type": "code",
   "execution_count": 18,
   "id": "1e5d4419",
   "metadata": {},
   "outputs": [],
   "source": [
    "# non-linear model\n",
    "# using rbf kernel, C=1, default value of gamma\n",
    "\n",
    "# model\n",
    "non_linear_model = SVC(kernel='rbf')\n",
    "\n",
    "# fit\n",
    "non_linear_model.fit(X_train, y_train)\n",
    "\n",
    "# predict\n",
    "y_pred = non_linear_model.predict(X_test)"
   ]
  },
  {
   "cell_type": "code",
   "execution_count": 19,
   "id": "454c6b2b",
   "metadata": {},
   "outputs": [
    {
     "name": "stdout",
     "output_type": "stream",
     "text": [
      "accuracy: 0.9916666666666667 \n",
      "\n",
      "[[46  0  0  0  0  0  0  0  0  0]\n",
      " [ 0 31  0  0  0  0  0  0  0  0]\n",
      " [ 0  0 42  0  0  0  0  0  0  0]\n",
      " [ 0  0  0 37  0  0  0  0  0  0]\n",
      " [ 0  0  0  0 25  0  0  0  1  0]\n",
      " [ 0  0  0  0  0 41  0  0  0  0]\n",
      " [ 0  0  0  0  0  0 35  0  0  0]\n",
      " [ 0  0  0  0  0  0  0 46  0  0]\n",
      " [ 0  1  0  0  0  0  0  0 26  0]\n",
      " [ 0  0  0  0  0  0  0  1  0 28]]\n"
     ]
    }
   ],
   "source": [
    "# confusion matrix and accuracy, precision, recall\n",
    "\n",
    "# accuracy\n",
    "print(\"accuracy:\", metrics.accuracy_score(y_true=y_test, y_pred=y_pred), \"\\n\")\n",
    "\n",
    "# cm\n",
    "print(metrics.confusion_matrix(y_true=y_test, y_pred=y_pred))"
   ]
  },
  {
   "cell_type": "code",
   "execution_count": 20,
   "id": "6499d0da",
   "metadata": {},
   "outputs": [
    {
     "data": {
      "text/plain": [
       "Text(0.5, 15.0, 'Predicted')"
      ]
     },
     "execution_count": 20,
     "metadata": {},
     "output_type": "execute_result"
    },
    {
     "data": {
      "image/png": "[encoded data removed]",
      "text/plain": [
       "<Figure size 432x288 with 2 Axes>"
      ]
     },
     "metadata": {
      "needs_background": "light"
     },
     "output_type": "display_data"
    }
   ],
   "source": [
    "cf = metrics.confusion_matrix(y_true=y_test, y_pred=y_pred)\n",
    "sns.heatmap(pd.DataFrame(cf), annot=True, cmap=\"YlGnBu\" ,fmt='g')\n",
    "plt.tight_layout()\n",
    "plt.title('Confusion matrix', y=1.1)\n",
    "plt.ylabel('Actual')\n",
    "plt.xlabel('Predicted')"
   ]
  },
  {
   "cell_type": "code",
   "execution_count": 21,
   "id": "8b66dc55",
   "metadata": {},
   "outputs": [
    {
     "name": "stdout",
     "output_type": "stream",
     "text": [
      "              precision    recall  f1-score   support\n",
      "\n",
      "           0       1.00      1.00      1.00        46\n",
      "           1       0.97      1.00      0.98        31\n",
      "           2       1.00      1.00      1.00        42\n",
      "           3       1.00      1.00      1.00        37\n",
      "           4       1.00      0.96      0.98        26\n",
      "           5       1.00      1.00      1.00        41\n",
      "           6       1.00      1.00      1.00        35\n",
      "           7       0.98      1.00      0.99        46\n",
      "           8       0.96      0.96      0.96        27\n",
      "           9       1.00      0.97      0.98        29\n",
      "\n",
      "    accuracy                           0.99       360\n",
      "   macro avg       0.99      0.99      0.99       360\n",
      "weighted avg       0.99      0.99      0.99       360\n",
      "\n"
     ]
    }
   ],
   "source": [
    "#precision, recall and f1-score\n",
    "scores=metrics.classification_report(y_test, y_pred, labels=[0, 1, 2, 3, 4, 5, 6, 7, 8, 9])\n",
    "print(scores)"
   ]
  },
  {
   "cell_type": "markdown",
   "id": "5b278e04",
   "metadata": {},
   "source": [
    "As we clearly see that the non-linear rbf model gives approx. 99.166% accuracy. And most of the precision is above 96%.Thus, going forward, let's choose hyperparameters corresponding to non-linear rbf models."
   ]
  },
  {
   "cell_type": "markdown",
   "id": "35f4d7f8",
   "metadata": {},
   "source": [
    "# Grid Search: Hyperparameter Tuning"
   ]
  },
  {
   "cell_type": "markdown",
   "id": "f72b0916",
   "metadata": {},
   "source": [
    "Let's now tune the model to find the optimal values of C and gamma corresponding to an RBF kernel. \n",
    "I will use 5-fold cross validation."
   ]
  },
  {
   "cell_type": "code",
   "execution_count": 22,
   "id": "330c0217",
   "metadata": {},
   "outputs": [
    {
     "name": "stdout",
     "output_type": "stream",
     "text": [
      "Fitting 5 folds for each of 6 candidates, totalling 30 fits\n"
     ]
    },
    {
     "data": {
      "text/plain": [
       "GridSearchCV(cv=KFold(n_splits=5, random_state=10, shuffle=True),\n",
       "             estimator=SVC(),\n",
       "             param_grid=[{'C': [5, 10], 'gamma': [0.01, 0.001, 0.0001]}],\n",
       "             return_train_score=True, scoring='accuracy', verbose=1)"
      ]
     },
     "execution_count": 22,
     "metadata": {},
     "output_type": "execute_result"
    }
   ],
   "source": [
    "from sklearn.model_selection import validation_curve\n",
    "from sklearn.model_selection import KFold\n",
    "from sklearn.model_selection import cross_val_score\n",
    "from sklearn.model_selection import GridSearchCV\n",
    "\n",
    "\n",
    "# creating a KFold object with 5 splits \n",
    "folds = KFold(n_splits = 5, shuffle = True, random_state = 10)\n",
    "\n",
    "# specify range of hyperparameters\n",
    "# Set the parameters by cross-validation\n",
    "hyper_params = [ {'gamma': [1e-2, 1e-3, 1e-4],\n",
    "                     'C': [5,10]}]\n",
    "\n",
    "\n",
    "# specify model\n",
    "model = SVC(kernel=\"rbf\")\n",
    "\n",
    "# set up GridSearchCV()\n",
    "model_cv = GridSearchCV(estimator = model, \n",
    "                        param_grid = hyper_params, \n",
    "                        scoring= 'accuracy', \n",
    "                        cv = folds, \n",
    "                        verbose = 1,\n",
    "                        return_train_score=True)      \n",
    "\n",
    "# fit the model\n",
    "model_cv.fit(X_train, y_train)"
   ]
  },
  {
   "cell_type": "code",
   "execution_count": 23,
   "id": "4fee9ca9",
   "metadata": {},
   "outputs": [
    {
     "data": {
      "text/html": [
       "<div>\n",
       "<style scoped>\n",
       "    .dataframe tbody tr th:only-of-type {\n",
       "        vertical-align: middle;\n",
       "    }\n",
       "\n",
       "    .dataframe tbody tr th {\n",
       "        vertical-align: top;\n",
       "    }\n",
       "\n",
       "    .dataframe thead th {\n",
       "        text-align: right;\n",
       "    }\n",
       "</style>\n",
       "<table border=\"1\" class=\"dataframe\">\n",
       "  <thead>\n",
       "    <tr style=\"text-align: right;\">\n",
       "      <th></th>\n",
       "      <th>mean_fit_time</th>\n",
       "      <th>std_fit_time</th>\n",
       "      <th>mean_score_time</th>\n",
       "      <th>std_score_time</th>\n",
       "      <th>param_C</th>\n",
       "      <th>param_gamma</th>\n",
       "      <th>params</th>\n",
       "      <th>split0_test_score</th>\n",
       "      <th>split1_test_score</th>\n",
       "      <th>split2_test_score</th>\n",
       "      <th>...</th>\n",
       "      <th>mean_test_score</th>\n",
       "      <th>std_test_score</th>\n",
       "      <th>rank_test_score</th>\n",
       "      <th>split0_train_score</th>\n",
       "      <th>split1_train_score</th>\n",
       "      <th>split2_train_score</th>\n",
       "      <th>split3_train_score</th>\n",
       "      <th>split4_train_score</th>\n",
       "      <th>mean_train_score</th>\n",
       "      <th>std_train_score</th>\n",
       "    </tr>\n",
       "  </thead>\n",
       "  <tbody>\n",
       "    <tr>\n",
       "      <th>0</th>\n",
       "      <td>0.173795</td>\n",
       "      <td>0.010915</td>\n",
       "      <td>0.058628</td>\n",
       "      <td>0.002391</td>\n",
       "      <td>5</td>\n",
       "      <td>0.01</td>\n",
       "      <td>{'C': 5, 'gamma': 0.01}</td>\n",
       "      <td>0.795139</td>\n",
       "      <td>0.694444</td>\n",
       "      <td>0.843206</td>\n",
       "      <td>...</td>\n",
       "      <td>0.743213</td>\n",
       "      <td>0.067927</td>\n",
       "      <td>5</td>\n",
       "      <td>1.000000</td>\n",
       "      <td>1.000000</td>\n",
       "      <td>1.000000</td>\n",
       "      <td>1.000000</td>\n",
       "      <td>1.000000</td>\n",
       "      <td>1.000000</td>\n",
       "      <td>0.000000</td>\n",
       "    </tr>\n",
       "    <tr>\n",
       "      <th>1</th>\n",
       "      <td>0.052175</td>\n",
       "      <td>0.000725</td>\n",
       "      <td>0.030201</td>\n",
       "      <td>0.000382</td>\n",
       "      <td>5</td>\n",
       "      <td>0.001</td>\n",
       "      <td>{'C': 5, 'gamma': 0.001}</td>\n",
       "      <td>0.989583</td>\n",
       "      <td>0.993056</td>\n",
       "      <td>0.982578</td>\n",
       "      <td>...</td>\n",
       "      <td>0.990953</td>\n",
       "      <td>0.004726</td>\n",
       "      <td>1</td>\n",
       "      <td>1.000000</td>\n",
       "      <td>1.000000</td>\n",
       "      <td>1.000000</td>\n",
       "      <td>1.000000</td>\n",
       "      <td>1.000000</td>\n",
       "      <td>1.000000</td>\n",
       "      <td>0.000000</td>\n",
       "    </tr>\n",
       "    <tr>\n",
       "      <th>2</th>\n",
       "      <td>0.029665</td>\n",
       "      <td>0.001105</td>\n",
       "      <td>0.023592</td>\n",
       "      <td>0.001018</td>\n",
       "      <td>5</td>\n",
       "      <td>0.0001</td>\n",
       "      <td>{'C': 5, 'gamma': 0.0001}</td>\n",
       "      <td>0.986111</td>\n",
       "      <td>0.979167</td>\n",
       "      <td>0.975610</td>\n",
       "      <td>...</td>\n",
       "      <td>0.983996</td>\n",
       "      <td>0.005652</td>\n",
       "      <td>4</td>\n",
       "      <td>0.993037</td>\n",
       "      <td>0.993037</td>\n",
       "      <td>0.995652</td>\n",
       "      <td>0.993043</td>\n",
       "      <td>0.994783</td>\n",
       "      <td>0.993911</td>\n",
       "      <td>0.001102</td>\n",
       "    </tr>\n",
       "    <tr>\n",
       "      <th>3</th>\n",
       "      <td>0.170144</td>\n",
       "      <td>0.004376</td>\n",
       "      <td>0.055194</td>\n",
       "      <td>0.000743</td>\n",
       "      <td>10</td>\n",
       "      <td>0.01</td>\n",
       "      <td>{'C': 10, 'gamma': 0.01}</td>\n",
       "      <td>0.795139</td>\n",
       "      <td>0.694444</td>\n",
       "      <td>0.843206</td>\n",
       "      <td>...</td>\n",
       "      <td>0.743213</td>\n",
       "      <td>0.067927</td>\n",
       "      <td>5</td>\n",
       "      <td>1.000000</td>\n",
       "      <td>1.000000</td>\n",
       "      <td>1.000000</td>\n",
       "      <td>1.000000</td>\n",
       "      <td>1.000000</td>\n",
       "      <td>1.000000</td>\n",
       "      <td>0.000000</td>\n",
       "    </tr>\n",
       "    <tr>\n",
       "      <th>4</th>\n",
       "      <td>0.056192</td>\n",
       "      <td>0.002039</td>\n",
       "      <td>0.029408</td>\n",
       "      <td>0.000500</td>\n",
       "      <td>10</td>\n",
       "      <td>0.001</td>\n",
       "      <td>{'C': 10, 'gamma': 0.001}</td>\n",
       "      <td>0.989583</td>\n",
       "      <td>0.993056</td>\n",
       "      <td>0.982578</td>\n",
       "      <td>...</td>\n",
       "      <td>0.990953</td>\n",
       "      <td>0.004726</td>\n",
       "      <td>1</td>\n",
       "      <td>1.000000</td>\n",
       "      <td>1.000000</td>\n",
       "      <td>1.000000</td>\n",
       "      <td>1.000000</td>\n",
       "      <td>1.000000</td>\n",
       "      <td>1.000000</td>\n",
       "      <td>0.000000</td>\n",
       "    </tr>\n",
       "    <tr>\n",
       "      <th>5</th>\n",
       "      <td>0.028000</td>\n",
       "      <td>0.000896</td>\n",
       "      <td>0.023085</td>\n",
       "      <td>0.002454</td>\n",
       "      <td>10</td>\n",
       "      <td>0.0001</td>\n",
       "      <td>{'C': 10, 'gamma': 0.0001}</td>\n",
       "      <td>0.986111</td>\n",
       "      <td>0.986111</td>\n",
       "      <td>0.972125</td>\n",
       "      <td>...</td>\n",
       "      <td>0.985385</td>\n",
       "      <td>0.007109</td>\n",
       "      <td>3</td>\n",
       "      <td>0.995648</td>\n",
       "      <td>0.997389</td>\n",
       "      <td>0.998261</td>\n",
       "      <td>0.997391</td>\n",
       "      <td>0.998261</td>\n",
       "      <td>0.997390</td>\n",
       "      <td>0.000954</td>\n",
       "    </tr>\n",
       "  </tbody>\n",
       "</table>\n",
       "<p>6 rows × 22 columns</p>\n",
       "</div>"
      ],
      "text/plain": [
       "   mean_fit_time  std_fit_time  mean_score_time  std_score_time param_C  \\\n",
       "0       0.173795      0.010915         0.058628        0.002391       5   \n",
       "1       0.052175      0.000725         0.030201        0.000382       5   \n",
       "2       0.029665      0.001105         0.023592        0.001018       5   \n",
       "3       0.170144      0.004376         0.055194        0.000743      10   \n",
       "4       0.056192      0.002039         0.029408        0.000500      10   \n",
       "5       0.028000      0.000896         0.023085        0.002454      10   \n",
       "\n",
       "  param_gamma                      params  split0_test_score  \\\n",
       "0        0.01     {'C': 5, 'gamma': 0.01}           0.795139   \n",
       "1       0.001    {'C': 5, 'gamma': 0.001}           0.989583   \n",
       "2      0.0001   {'C': 5, 'gamma': 0.0001}           0.986111   \n",
       "3        0.01    {'C': 10, 'gamma': 0.01}           0.795139   \n",
       "4       0.001   {'C': 10, 'gamma': 0.001}           0.989583   \n",
       "5      0.0001  {'C': 10, 'gamma': 0.0001}           0.986111   \n",
       "\n",
       "   split1_test_score  split2_test_score  ...  mean_test_score  std_test_score  \\\n",
       "0           0.694444           0.843206  ...         0.743213        0.067927   \n",
       "1           0.993056           0.982578  ...         0.990953        0.004726   \n",
       "2           0.979167           0.975610  ...         0.983996        0.005652   \n",
       "3           0.694444           0.843206  ...         0.743213        0.067927   \n",
       "4           0.993056           0.982578  ...         0.990953        0.004726   \n",
       "5           0.986111           0.972125  ...         0.985385        0.007109   \n",
       "\n",
       "   rank_test_score  split0_train_score  split1_train_score  \\\n",
       "0                5            1.000000            1.000000   \n",
       "1                1            1.000000            1.000000   \n",
       "2                4            0.993037            0.993037   \n",
       "3                5            1.000000            1.000000   \n",
       "4                1            1.000000            1.000000   \n",
       "5                3            0.995648            0.997389   \n",
       "\n",
       "   split2_train_score  split3_train_score  split4_train_score  \\\n",
       "0            1.000000            1.000000            1.000000   \n",
       "1            1.000000            1.000000            1.000000   \n",
       "2            0.995652            0.993043            0.994783   \n",
       "3            1.000000            1.000000            1.000000   \n",
       "4            1.000000            1.000000            1.000000   \n",
       "5            0.998261            0.997391            0.998261   \n",
       "\n",
       "   mean_train_score  std_train_score  \n",
       "0          1.000000         0.000000  \n",
       "1          1.000000         0.000000  \n",
       "2          0.993911         0.001102  \n",
       "3          1.000000         0.000000  \n",
       "4          1.000000         0.000000  \n",
       "5          0.997390         0.000954  \n",
       "\n",
       "[6 rows x 22 columns]"
      ]
     },
     "execution_count": 23,
     "metadata": {},
     "output_type": "execute_result"
    }
   ],
   "source": [
    "# cv results\n",
    "cv_results = pd.DataFrame(model_cv.cv_results_)\n",
    "cv_results"
   ]
  },
  {
   "cell_type": "code",
   "execution_count": 24,
   "id": "bff910d7",
   "metadata": {},
   "outputs": [
    {
     "data": {
      "image/png": "[encoded data removed]",
      "text/plain": [
       "<Figure size 1440x504 with 3 Axes>"
      ]
     },
     "metadata": {
      "needs_background": "light"
     },
     "output_type": "display_data"
    }
   ],
   "source": [
    "# converting C to numeric type for plotting on x-axis\n",
    "cv_results['param_C'] = cv_results['param_C'].astype('int')\n",
    "\n",
    "# # plotting\n",
    "plt.figure(figsize=(20,7))\n",
    "\n",
    "# subplot 1/3\n",
    "plt.subplot(131)\n",
    "gamma_01 = cv_results[cv_results['param_gamma']==0.01]\n",
    "\n",
    "plt.plot(gamma_01[\"param_C\"], gamma_01[\"mean_test_score\"])\n",
    "plt.plot(gamma_01[\"param_C\"], gamma_01[\"mean_train_score\"])\n",
    "plt.xlabel('C')\n",
    "plt.ylabel('Accuracy')\n",
    "plt.title(\"Gamma=0.01\")\n",
    "plt.ylim([0.50, 1.1])\n",
    "plt.legend(['test accuracy', 'train accuracy'], loc='upper left')\n",
    "plt.xscale('log')\n",
    "\n",
    "# subplot 2/3\n",
    "plt.subplot(132)\n",
    "gamma_001 = cv_results[cv_results['param_gamma']==0.001]\n",
    "\n",
    "plt.plot(gamma_001[\"param_C\"], gamma_001[\"mean_test_score\"])\n",
    "plt.plot(gamma_001[\"param_C\"], gamma_001[\"mean_train_score\"])\n",
    "plt.xlabel('C')\n",
    "plt.ylabel('Accuracy')\n",
    "plt.title(\"Gamma=0.001\")\n",
    "plt.ylim([0.50, 1.1])\n",
    "plt.legend(['test accuracy', 'train accuracy'], loc='upper left')\n",
    "plt.xscale('log')\n",
    "\n",
    "\n",
    "# subplot 3/3\n",
    "plt.subplot(133)\n",
    "gamma_0001 = cv_results[cv_results['param_gamma']==0.0001]\n",
    "\n",
    "plt.plot(gamma_0001[\"param_C\"], gamma_0001[\"mean_test_score\"])\n",
    "plt.plot(gamma_0001[\"param_C\"], gamma_0001[\"mean_train_score\"])\n",
    "plt.xlabel('C')\n",
    "plt.ylabel('Accuracy')\n",
    "plt.title(\"Gamma=0.0001\")\n",
    "plt.ylim([0.50, 1.1])\n",
    "plt.legend(['test accuracy', 'train accuracy'], loc='upper left')\n",
    "plt.xscale('log')"
   ]
  },
  {
   "cell_type": "markdown",
   "id": "7ff56225",
   "metadata": {},
   "source": [
    "Let's now choose the best hyperparameters."
   ]
  },
  {
   "cell_type": "code",
   "execution_count": 25,
   "id": "cd05c905",
   "metadata": {},
   "outputs": [
    {
     "name": "stdout",
     "output_type": "stream",
     "text": [
      "The best test score is 0.9909528648857917 corresponding to hyperparameters {'C': 5, 'gamma': 0.001}\n"
     ]
    }
   ],
   "source": [
    "# printing the optimal accuracy score and hyperparameters\n",
    "best_score = model_cv.best_score_\n",
    "best_hyperparams = model_cv.best_params_\n",
    "\n",
    "print(\"The best test score is {0} corresponding to hyperparameters {1}\".format(best_score, best_hyperparams))"
   ]
  },
  {
   "cell_type": "markdown",
   "id": "989fdccc",
   "metadata": {},
   "source": [
    "Let us take the best value ({'C': 5, 'gamma': 0.001}) as suggested by the sklearn."
   ]
  },
  {
   "cell_type": "markdown",
   "id": "240c1096",
   "metadata": {},
   "source": [
    "# Building and Evaluating the Final Model"
   ]
  },
  {
   "cell_type": "code",
   "execution_count": 26,
   "id": "04116926",
   "metadata": {},
   "outputs": [
    {
     "name": "stdout",
     "output_type": "stream",
     "text": [
      "accuracy 0.9916666666666667 \n",
      "\n",
      "[[46  0  0  0  0  0  0  0  0  0]\n",
      " [ 0 31  0  0  0  0  0  0  0  0]\n",
      " [ 0  0 42  0  0  0  0  0  0  0]\n",
      " [ 0  0  0 36  0  1  0  0  0  0]\n",
      " [ 0  0  0  0 26  0  0  0  0  0]\n",
      " [ 0  0  0  0  0 41  0  0  0  0]\n",
      " [ 0  0  0  0  0  0 35  0  0  0]\n",
      " [ 0  0  0  0  0  0  0 46  0  0]\n",
      " [ 0  1  0  0  0  0  0  0 26  0]\n",
      " [ 0  0  0  0  0  0  0  0  1 28]] \n",
      "\n"
     ]
    }
   ],
   "source": [
    "# model with optimal hyperparameters\n",
    "\n",
    "# model\n",
    "model = SVC(C=5, gamma=0.001, kernel=\"rbf\")\n",
    "\n",
    "model.fit(X_train, y_train)\n",
    "y_pred = model.predict(X_test)\n",
    "\n",
    "# metrics\n",
    "print(\"accuracy\", metrics.accuracy_score(y_test, y_pred), \"\\n\")\n",
    "print(metrics.confusion_matrix(y_test, y_pred), \"\\n\")"
   ]
  },
  {
   "cell_type": "code",
   "execution_count": 27,
   "id": "796dee84",
   "metadata": {},
   "outputs": [
    {
     "data": {
      "text/plain": [
       "Text(0.5, 15.0, 'Predicted')"
      ]
     },
     "execution_count": 27,
     "metadata": {},
     "output_type": "execute_result"
    },
    {
     "data": {
      "image/png": "[encoded data removed]",
      "text/plain": [
       "<Figure size 432x288 with 2 Axes>"
      ]
     },
     "metadata": {
      "needs_background": "light"
     },
     "output_type": "display_data"
    }
   ],
   "source": [
    "cf = metrics.confusion_matrix(y_true=y_test, y_pred=y_pred)\n",
    "sns.heatmap(pd.DataFrame(cf), annot=True, cmap=\"YlGnBu\" ,fmt='g')\n",
    "plt.tight_layout()\n",
    "plt.title('Confusion matrix', y=1.1)\n",
    "plt.ylabel('Actual')\n",
    "plt.xlabel('Predicted')"
   ]
  },
  {
   "cell_type": "code",
   "execution_count": 28,
   "id": "9cc85d27",
   "metadata": {},
   "outputs": [
    {
     "name": "stdout",
     "output_type": "stream",
     "text": [
      "              precision    recall  f1-score   support\n",
      "\n",
      "           0       1.00      1.00      1.00        46\n",
      "           1       0.97      1.00      0.98        31\n",
      "           2       1.00      1.00      1.00        42\n",
      "           3       1.00      0.97      0.99        37\n",
      "           4       1.00      1.00      1.00        26\n",
      "           5       0.98      1.00      0.99        41\n",
      "           6       1.00      1.00      1.00        35\n",
      "           7       1.00      1.00      1.00        46\n",
      "           8       0.96      0.96      0.96        27\n",
      "           9       1.00      0.97      0.98        29\n",
      "\n",
      "    accuracy                           0.99       360\n",
      "   macro avg       0.99      0.99      0.99       360\n",
      "weighted avg       0.99      0.99      0.99       360\n",
      "\n"
     ]
    }
   ],
   "source": [
    "# different class-wise accuracy - #precision, recall and f1-score\n",
    "scores=metrics.classification_report(y_test, y_pred, labels=[0, 1, 2, 3, 4, 5, 6, 7, 8, 9])\n",
    "print(scores)"
   ]
  },
  {
   "cell_type": "markdown",
   "id": "aaab76a5",
   "metadata": {},
   "source": [
    "# Hence, with hyperparameter C = 5 and gamma = 0.001, we see overall accuracy of the model is 99.167% and also precision for each label is above 97%."
   ]
  }
 ],
 "metadata": {
  "kernelspec": {
   "display_name": "Python 3",
   "language": "python",
   "name": "python3"
  },
  "language_info": {
   "codemirror_mode": {
    "name": "ipython",
    "version": 3
   },
   "file_extension": ".py",
   "mimetype": "text/x-python",
   "name": "python",
   "nbconvert_exporter": "python",
   "pygments_lexer": "ipython3",
   "version": "3.8.8"
  }
 },
 "nbformat": 4,
 "nbformat_minor": 5
}
