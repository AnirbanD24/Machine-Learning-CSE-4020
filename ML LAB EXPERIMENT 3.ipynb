{
 "cells": [
  {
   "cell_type": "markdown",
   "id": "eb0ab0dd",
   "metadata": {},
   "source": [
    "# NAME - ANIBBAN DUTTA\n",
    "# REG NO. - 19BCB0015"
   ]
  },
  {
   "cell_type": "markdown",
   "id": "aeaf7147",
   "metadata": {},
   "source": [
    "# Importing the required libraries"
   ]
  },
  {
   "cell_type": "code",
   "execution_count": 1,
   "id": "55b669a7",
   "metadata": {},
   "outputs": [],
   "source": [
    "import pandas as pd\n",
    "import numpy as np\n",
    "import matplotlib.pyplot as plt\n",
    "from sklearn.model_selection import train_test_split\n",
    "from sklearn.linear_model import LinearRegression\n",
    "from sklearn.metrics import mean_absolute_error\n",
    "from sklearn.metrics import mean_squared_error\n",
    "from sklearn.metrics import r2_score"
   ]
  },
  {
   "cell_type": "markdown",
   "id": "a90dc433",
   "metadata": {},
   "source": [
    "# Importing and loading the dataset"
   ]
  },
  {
   "cell_type": "code",
   "execution_count": 2,
   "id": "2575428f",
   "metadata": {
    "scrolled": false
   },
   "outputs": [
    {
     "name": "stdout",
     "output_type": "stream",
     "text": [
      "<class 'pandas.core.frame.DataFrame'>\n",
      "RangeIndex: 89 entries, 0 to 88\n",
      "Data columns (total 59 columns):\n",
      " #   Column                                        Non-Null Count  Dtype \n",
      "---  ------                                        --------------  ----- \n",
      " 0   Date                                          88 non-null     object\n",
      " 1   Day                                           88 non-null     object\n",
      " 2   Tests                                         89 non-null     object\n",
      " 3   Cases                                         89 non-null     object\n",
      " 4   People Not-Positive - Total                   89 non-null     object\n",
      " 5   People Tested - Age 0-17                      89 non-null     int64 \n",
      " 6   People Tested - Age 18-29                     89 non-null     object\n",
      " 7   People Tested - Age 30-39                     89 non-null     object\n",
      " 8   People Tested - Age 40-49                     89 non-null     int64 \n",
      " 9   People Tested - Age 50-59                     89 non-null     int64 \n",
      " 10  People Tested - Age 60-69                     89 non-null     int64 \n",
      " 11  People Tested - Age 70-79                     89 non-null     int64 \n",
      " 12  People Tested - Age 80+                       89 non-null     int64 \n",
      " 13  People Tested - Age Unknown                   89 non-null     int64 \n",
      " 14  People Tested - Female                        89 non-null     object\n",
      " 15  People Tested - Male                          89 non-null     object\n",
      " 16  People Tested - Gender Unknown                89 non-null     int64 \n",
      " 17  People Tested - Latinx                        89 non-null     object\n",
      " 18  People Tested - Asian Non-Latinx              89 non-null     int64 \n",
      " 19  People Tested - Black Non-Latinx              89 non-null     int64 \n",
      " 20  People Tested - White Non-Latinx              89 non-null     int64 \n",
      " 21  People Tested - Other Race Non-Latinx         89 non-null     int64 \n",
      " 22  People Tested - Unknown Race/Ethnicity        89 non-null     object\n",
      " 23  People Positive - Age 0-17                    89 non-null     int64 \n",
      " 24  People Positive - Age 18-29                   89 non-null     int64 \n",
      " 25  People Positive - Age 30-30                   89 non-null     int64 \n",
      " 26  People Positive - Age 40-49                   89 non-null     int64 \n",
      " 27  People Positive - Age 50-59                   89 non-null     int64 \n",
      " 28  People Positive - Age 60-69                   89 non-null     int64 \n",
      " 29  People Positive - Age 70-79                   89 non-null     int64 \n",
      " 30  People Positive - Age 80+                     89 non-null     int64 \n",
      " 31  People Positive - Age Unknown                 89 non-null     int64 \n",
      " 32  People Positive - Female                      89 non-null     int64 \n",
      " 33  People Positive - Male                        89 non-null     int64 \n",
      " 34  People Positive - Gender Unknown              89 non-null     int64 \n",
      " 35  People Positive - Latinx                      89 non-null     int64 \n",
      " 36  People Positive - Asian Non-Latinx            89 non-null     int64 \n",
      " 37  People Positive - Black Non-Latinx            89 non-null     int64 \n",
      " 38  People Positive - White Non-Latinx            89 non-null     int64 \n",
      " 39  People Positive - Other Race Non-Latinx       89 non-null     int64 \n",
      " 40  People Positive - Unknown Race/Ethnicity      89 non-null     int64 \n",
      " 41  People Not-Positive - Age 0-17                89 non-null     int64 \n",
      " 42  People Not-Positive - Age 18-29               89 non-null     object\n",
      " 43  People Not-Positive - Age 30-39               89 non-null     int64 \n",
      " 44  People Not-Positive - Age 40-49               89 non-null     int64 \n",
      " 45  People Not-Positive - Age 50-59               89 non-null     int64 \n",
      " 46  People Not-Positive - Age 60-69               89 non-null     int64 \n",
      " 47  People Not-Positive - Age 70-79               89 non-null     int64 \n",
      " 48  People Not-Positive - Age 80+                 89 non-null     int64 \n",
      " 49  People Not-Positive - Age Unknown             89 non-null     int64 \n",
      " 50  People Not-Positive - Female                  89 non-null     object\n",
      " 51  People Not-Positive - Male                    89 non-null     object\n",
      " 52  People Not-Positive - Gender Unknown          89 non-null     int64 \n",
      " 53  People Not-Positive - Latinx                  89 non-null     int64 \n",
      " 54  People Not-Positive - Asian Non-Latinx        89 non-null     int64 \n",
      " 55  People Not-Positive - Black Non-Latinx        89 non-null     int64 \n",
      " 56  People Not-Positive - White Non-Latinx        89 non-null     int64 \n",
      " 57  People Not-Positive - Other Race Non-Latinx   89 non-null     int64 \n",
      " 58  People Not-Positive - Unknown Race/Ethnicity  89 non-null     object\n",
      "dtypes: int64(44), object(15)\n",
      "memory usage: 41.1+ KB\n",
      "Index(['Date', 'Day', 'Tests', 'Cases', 'People Not-Positive - Total',\n",
      "       'People Tested - Age 0-17', 'People Tested - Age 18-29',\n",
      "       'People Tested - Age 30-39', 'People Tested - Age 40-49',\n",
      "       'People Tested - Age 50-59', 'People Tested - Age 60-69',\n",
      "       'People Tested - Age 70-79', 'People Tested - Age 80+',\n",
      "       'People Tested - Age Unknown', 'People Tested - Female',\n",
      "       'People Tested - Male', 'People Tested - Gender Unknown',\n",
      "       'People Tested - Latinx', 'People Tested - Asian Non-Latinx',\n",
      "       'People Tested - Black Non-Latinx', 'People Tested - White Non-Latinx',\n",
      "       'People Tested - Other Race Non-Latinx',\n",
      "       'People Tested - Unknown Race/Ethnicity', 'People Positive - Age 0-17',\n",
      "       'People Positive - Age 18-29', 'People Positive - Age 30-30',\n",
      "       'People Positive - Age 40-49', 'People Positive - Age 50-59',\n",
      "       'People Positive - Age 60-69', 'People Positive - Age 70-79',\n",
      "       'People Positive - Age 80+', 'People Positive - Age Unknown',\n",
      "       'People Positive - Female', 'People Positive - Male',\n",
      "       'People Positive - Gender Unknown', 'People Positive - Latinx',\n",
      "       'People Positive - Asian Non-Latinx',\n",
      "       'People Positive - Black Non-Latinx',\n",
      "       'People Positive - White Non-Latinx',\n",
      "       'People Positive - Other Race Non-Latinx',\n",
      "       'People Positive - Unknown Race/Ethnicity',\n",
      "       'People Not-Positive - Age 0-17', 'People Not-Positive - Age 18-29',\n",
      "       'People Not-Positive - Age 30-39', 'People Not-Positive - Age 40-49',\n",
      "       'People Not-Positive - Age 50-59', 'People Not-Positive - Age 60-69',\n",
      "       'People Not-Positive - Age 70-79', 'People Not-Positive - Age 80+',\n",
      "       'People Not-Positive - Age Unknown', 'People Not-Positive - Female',\n",
      "       'People Not-Positive - Male', 'People Not-Positive - Gender Unknown',\n",
      "       'People Not-Positive - Latinx',\n",
      "       'People Not-Positive - Asian Non-Latinx',\n",
      "       'People Not-Positive - Black Non-Latinx',\n",
      "       'People Not-Positive - White Non-Latinx',\n",
      "       'People Not-Positive - Other Race Non-Latinx',\n",
      "       'People Not-Positive - Unknown Race/Ethnicity'],\n",
      "      dtype='object')\n"
     ]
    }
   ],
   "source": [
    "data = pd.read_csv(\"COVID-19_Daily_Testing.csv\")\n",
    "data.info()\n",
    "print(data.columns)"
   ]
  },
  {
   "cell_type": "code",
   "execution_count": 3,
   "id": "c6ac3fb7",
   "metadata": {},
   "outputs": [
    {
     "data": {
      "text/html": [
       "<div>\n",
       "<style scoped>\n",
       "    .dataframe tbody tr th:only-of-type {\n",
       "        vertical-align: middle;\n",
       "    }\n",
       "\n",
       "    .dataframe tbody tr th {\n",
       "        vertical-align: top;\n",
       "    }\n",
       "\n",
       "    .dataframe thead th {\n",
       "        text-align: right;\n",
       "    }\n",
       "</style>\n",
       "<table border=\"1\" class=\"dataframe\">\n",
       "  <thead>\n",
       "    <tr style=\"text-align: right;\">\n",
       "      <th></th>\n",
       "      <th>Date</th>\n",
       "      <th>Day</th>\n",
       "      <th>Tests</th>\n",
       "      <th>Cases</th>\n",
       "      <th>People Not-Positive - Total</th>\n",
       "      <th>People Tested - Age 0-17</th>\n",
       "      <th>People Tested - Age 18-29</th>\n",
       "      <th>People Tested - Age 30-39</th>\n",
       "      <th>People Tested - Age 40-49</th>\n",
       "      <th>People Tested - Age 50-59</th>\n",
       "      <th>...</th>\n",
       "      <th>People Not-Positive - Age Unknown</th>\n",
       "      <th>People Not-Positive - Female</th>\n",
       "      <th>People Not-Positive - Male</th>\n",
       "      <th>People Not-Positive - Gender Unknown</th>\n",
       "      <th>People Not-Positive - Latinx</th>\n",
       "      <th>People Not-Positive - Asian Non-Latinx</th>\n",
       "      <th>People Not-Positive - Black Non-Latinx</th>\n",
       "      <th>People Not-Positive - White Non-Latinx</th>\n",
       "      <th>People Not-Positive - Other Race Non-Latinx</th>\n",
       "      <th>People Not-Positive - Unknown Race/Ethnicity</th>\n",
       "    </tr>\n",
       "  </thead>\n",
       "  <tbody>\n",
       "    <tr>\n",
       "      <th>0</th>\n",
       "      <td>03-01-20</td>\n",
       "      <td>Sunday</td>\n",
       "      <td>1</td>\n",
       "      <td>0</td>\n",
       "      <td>1</td>\n",
       "      <td>0</td>\n",
       "      <td>0</td>\n",
       "      <td>1</td>\n",
       "      <td>0</td>\n",
       "      <td>0</td>\n",
       "      <td>...</td>\n",
       "      <td>0</td>\n",
       "      <td>0</td>\n",
       "      <td>1</td>\n",
       "      <td>0</td>\n",
       "      <td>0</td>\n",
       "      <td>0</td>\n",
       "      <td>0</td>\n",
       "      <td>1</td>\n",
       "      <td>0</td>\n",
       "      <td>0</td>\n",
       "    </tr>\n",
       "    <tr>\n",
       "      <th>1</th>\n",
       "      <td>05-02-20</td>\n",
       "      <td>Saturday</td>\n",
       "      <td>2,431</td>\n",
       "      <td>705</td>\n",
       "      <td>1,726</td>\n",
       "      <td>129</td>\n",
       "      <td>470</td>\n",
       "      <td>458</td>\n",
       "      <td>458</td>\n",
       "      <td>412</td>\n",
       "      <td>...</td>\n",
       "      <td>1</td>\n",
       "      <td>898</td>\n",
       "      <td>797</td>\n",
       "      <td>31</td>\n",
       "      <td>226</td>\n",
       "      <td>30</td>\n",
       "      <td>273</td>\n",
       "      <td>225</td>\n",
       "      <td>51</td>\n",
       "      <td>921</td>\n",
       "    </tr>\n",
       "    <tr>\n",
       "      <th>2</th>\n",
       "      <td>05/14/2020</td>\n",
       "      <td>Thursday</td>\n",
       "      <td>4,098</td>\n",
       "      <td>772</td>\n",
       "      <td>3,326</td>\n",
       "      <td>260</td>\n",
       "      <td>805</td>\n",
       "      <td>833</td>\n",
       "      <td>685</td>\n",
       "      <td>604</td>\n",
       "      <td>...</td>\n",
       "      <td>16</td>\n",
       "      <td>1,654</td>\n",
       "      <td>1,424</td>\n",
       "      <td>248</td>\n",
       "      <td>529</td>\n",
       "      <td>43</td>\n",
       "      <td>430</td>\n",
       "      <td>442</td>\n",
       "      <td>109</td>\n",
       "      <td>1,773</td>\n",
       "    </tr>\n",
       "    <tr>\n",
       "      <th>3</th>\n",
       "      <td>03-05-20</td>\n",
       "      <td>Thursday</td>\n",
       "      <td>17</td>\n",
       "      <td>1</td>\n",
       "      <td>16</td>\n",
       "      <td>4</td>\n",
       "      <td>2</td>\n",
       "      <td>0</td>\n",
       "      <td>4</td>\n",
       "      <td>3</td>\n",
       "      <td>...</td>\n",
       "      <td>0</td>\n",
       "      <td>7</td>\n",
       "      <td>9</td>\n",
       "      <td>0</td>\n",
       "      <td>2</td>\n",
       "      <td>0</td>\n",
       "      <td>4</td>\n",
       "      <td>2</td>\n",
       "      <td>1</td>\n",
       "      <td>7</td>\n",
       "    </tr>\n",
       "    <tr>\n",
       "      <th>4</th>\n",
       "      <td>03-06-20</td>\n",
       "      <td>Friday</td>\n",
       "      <td>18</td>\n",
       "      <td>3</td>\n",
       "      <td>15</td>\n",
       "      <td>1</td>\n",
       "      <td>5</td>\n",
       "      <td>1</td>\n",
       "      <td>3</td>\n",
       "      <td>3</td>\n",
       "      <td>...</td>\n",
       "      <td>1</td>\n",
       "      <td>8</td>\n",
       "      <td>7</td>\n",
       "      <td>0</td>\n",
       "      <td>2</td>\n",
       "      <td>0</td>\n",
       "      <td>1</td>\n",
       "      <td>2</td>\n",
       "      <td>1</td>\n",
       "      <td>9</td>\n",
       "    </tr>\n",
       "  </tbody>\n",
       "</table>\n",
       "<p>5 rows × 59 columns</p>\n",
       "</div>"
      ],
      "text/plain": [
       "         Date       Day  Tests Cases People Not-Positive - Total  \\\n",
       "0    03-01-20    Sunday      1     0                           1   \n",
       "1    05-02-20  Saturday  2,431   705                       1,726   \n",
       "2  05/14/2020  Thursday  4,098   772                       3,326   \n",
       "3    03-05-20  Thursday     17     1                          16   \n",
       "4    03-06-20    Friday     18     3                          15   \n",
       "\n",
       "   People Tested - Age 0-17 People Tested - Age 18-29  \\\n",
       "0                         0                         0   \n",
       "1                       129                       470   \n",
       "2                       260                       805   \n",
       "3                         4                         2   \n",
       "4                         1                         5   \n",
       "\n",
       "  People Tested - Age 30-39  People Tested - Age 40-49  \\\n",
       "0                         1                          0   \n",
       "1                       458                        458   \n",
       "2                       833                        685   \n",
       "3                         0                          4   \n",
       "4                         1                          3   \n",
       "\n",
       "   People Tested - Age 50-59  ...  People Not-Positive - Age Unknown  \\\n",
       "0                          0  ...                                  0   \n",
       "1                        412  ...                                  1   \n",
       "2                        604  ...                                 16   \n",
       "3                          3  ...                                  0   \n",
       "4                          3  ...                                  1   \n",
       "\n",
       "   People Not-Positive - Female  People Not-Positive - Male  \\\n",
       "0                             0                           1   \n",
       "1                           898                         797   \n",
       "2                         1,654                       1,424   \n",
       "3                             7                           9   \n",
       "4                             8                           7   \n",
       "\n",
       "   People Not-Positive - Gender Unknown People Not-Positive - Latinx  \\\n",
       "0                                     0                            0   \n",
       "1                                    31                          226   \n",
       "2                                   248                          529   \n",
       "3                                     0                            2   \n",
       "4                                     0                            2   \n",
       "\n",
       "  People Not-Positive - Asian Non-Latinx  \\\n",
       "0                                      0   \n",
       "1                                     30   \n",
       "2                                     43   \n",
       "3                                      0   \n",
       "4                                      0   \n",
       "\n",
       "   People Not-Positive - Black Non-Latinx  \\\n",
       "0                                       0   \n",
       "1                                     273   \n",
       "2                                     430   \n",
       "3                                       4   \n",
       "4                                       1   \n",
       "\n",
       "  People Not-Positive - White Non-Latinx  \\\n",
       "0                                      1   \n",
       "1                                    225   \n",
       "2                                    442   \n",
       "3                                      2   \n",
       "4                                      2   \n",
       "\n",
       "   People Not-Positive - Other Race Non-Latinx  \\\n",
       "0                                            0   \n",
       "1                                           51   \n",
       "2                                          109   \n",
       "3                                            1   \n",
       "4                                            1   \n",
       "\n",
       "   People Not-Positive - Unknown Race/Ethnicity  \n",
       "0                                             0  \n",
       "1                                           921  \n",
       "2                                         1,773  \n",
       "3                                             7  \n",
       "4                                             9  \n",
       "\n",
       "[5 rows x 59 columns]"
      ]
     },
     "execution_count": 3,
     "metadata": {},
     "output_type": "execute_result"
    }
   ],
   "source": [
    "data.head()"
   ]
  },
  {
   "cell_type": "markdown",
   "id": "2a555131",
   "metadata": {},
   "source": [
    "# Data Cleaning and Processing"
   ]
  },
  {
   "cell_type": "code",
   "execution_count": 4,
   "id": "9d994bde",
   "metadata": {},
   "outputs": [
    {
     "name": "stdout",
     "output_type": "stream",
     "text": [
      "<class 'pandas.core.frame.DataFrame'>\n",
      "RangeIndex: 89 entries, 0 to 88\n",
      "Data columns (total 59 columns):\n",
      " #   Column                                        Non-Null Count  Dtype \n",
      "---  ------                                        --------------  ----- \n",
      " 0   Date                                          88 non-null     object\n",
      " 1   Day                                           88 non-null     object\n",
      " 2   Tests                                         89 non-null     int64 \n",
      " 3   Cases                                         89 non-null     int64 \n",
      " 4   People Not-Positive - Total                   89 non-null     object\n",
      " 5   People Tested - Age 0-17                      89 non-null     int64 \n",
      " 6   People Tested - Age 18-29                     89 non-null     object\n",
      " 7   People Tested - Age 30-39                     89 non-null     object\n",
      " 8   People Tested - Age 40-49                     89 non-null     int64 \n",
      " 9   People Tested - Age 50-59                     89 non-null     int64 \n",
      " 10  People Tested - Age 60-69                     89 non-null     int64 \n",
      " 11  People Tested - Age 70-79                     89 non-null     int64 \n",
      " 12  People Tested - Age 80+                       89 non-null     int64 \n",
      " 13  People Tested - Age Unknown                   89 non-null     int64 \n",
      " 14  People Tested - Female                        89 non-null     object\n",
      " 15  People Tested - Male                          89 non-null     object\n",
      " 16  People Tested - Gender Unknown                89 non-null     int64 \n",
      " 17  People Tested - Latinx                        89 non-null     object\n",
      " 18  People Tested - Asian Non-Latinx              89 non-null     int64 \n",
      " 19  People Tested - Black Non-Latinx              89 non-null     int64 \n",
      " 20  People Tested - White Non-Latinx              89 non-null     int64 \n",
      " 21  People Tested - Other Race Non-Latinx         89 non-null     int64 \n",
      " 22  People Tested - Unknown Race/Ethnicity        89 non-null     object\n",
      " 23  People Positive - Age 0-17                    89 non-null     int64 \n",
      " 24  People Positive - Age 18-29                   89 non-null     int64 \n",
      " 25  People Positive - Age 30-30                   89 non-null     int64 \n",
      " 26  People Positive - Age 40-49                   89 non-null     int64 \n",
      " 27  People Positive - Age 50-59                   89 non-null     int64 \n",
      " 28  People Positive - Age 60-69                   89 non-null     int64 \n",
      " 29  People Positive - Age 70-79                   89 non-null     int64 \n",
      " 30  People Positive - Age 80+                     89 non-null     int64 \n",
      " 31  People Positive - Age Unknown                 89 non-null     int64 \n",
      " 32  People Positive - Female                      89 non-null     int64 \n",
      " 33  People Positive - Male                        89 non-null     int64 \n",
      " 34  People Positive - Gender Unknown              89 non-null     int64 \n",
      " 35  People Positive - Latinx                      89 non-null     int64 \n",
      " 36  People Positive - Asian Non-Latinx            89 non-null     int64 \n",
      " 37  People Positive - Black Non-Latinx            89 non-null     int64 \n",
      " 38  People Positive - White Non-Latinx            89 non-null     int64 \n",
      " 39  People Positive - Other Race Non-Latinx       89 non-null     int64 \n",
      " 40  People Positive - Unknown Race/Ethnicity      89 non-null     int64 \n",
      " 41  People Not-Positive - Age 0-17                89 non-null     int64 \n",
      " 42  People Not-Positive - Age 18-29               89 non-null     object\n",
      " 43  People Not-Positive - Age 30-39               89 non-null     int64 \n",
      " 44  People Not-Positive - Age 40-49               89 non-null     int64 \n",
      " 45  People Not-Positive - Age 50-59               89 non-null     int64 \n",
      " 46  People Not-Positive - Age 60-69               89 non-null     int64 \n",
      " 47  People Not-Positive - Age 70-79               89 non-null     int64 \n",
      " 48  People Not-Positive - Age 80+                 89 non-null     int64 \n",
      " 49  People Not-Positive - Age Unknown             89 non-null     int64 \n",
      " 50  People Not-Positive - Female                  89 non-null     object\n",
      " 51  People Not-Positive - Male                    89 non-null     object\n",
      " 52  People Not-Positive - Gender Unknown          89 non-null     int64 \n",
      " 53  People Not-Positive - Latinx                  89 non-null     int64 \n",
      " 54  People Not-Positive - Asian Non-Latinx        89 non-null     int64 \n",
      " 55  People Not-Positive - Black Non-Latinx        89 non-null     int64 \n",
      " 56  People Not-Positive - White Non-Latinx        89 non-null     int64 \n",
      " 57  People Not-Positive - Other Race Non-Latinx   89 non-null     int64 \n",
      " 58  People Not-Positive - Unknown Race/Ethnicity  89 non-null     object\n",
      "dtypes: int64(46), object(13)\n",
      "memory usage: 41.1+ KB\n"
     ]
    }
   ],
   "source": [
    "data['Cases'] = data['Cases'].str.replace(',', '')\n",
    "data['Tests'] = data['Tests'].str.replace(',', '')\n",
    "data['Cases'] = pd.to_numeric(data['Cases'])     \n",
    "data['Tests'] = pd.to_numeric(data['Tests'])\n",
    "data.info()"
   ]
  },
  {
   "cell_type": "markdown",
   "id": "f64cab9f",
   "metadata": {},
   "source": [
    "# Scaling the dataset and splitting X and y into training and testing sets"
   ]
  },
  {
   "cell_type": "code",
   "execution_count": 5,
   "id": "5cba31be",
   "metadata": {},
   "outputs": [],
   "source": [
    "X = data['Tests'].values.reshape(-1,1)\n",
    "y = data['Cases'].values.reshape(-1,1)\n",
    "X_train, X_test, y_train, y_test =  train_test_split(X, y, random_state= 0, train_size = 0.7)"
   ]
  },
  {
   "cell_type": "markdown",
   "id": "40e68ceb",
   "metadata": {},
   "source": [
    "# Applying Linear Regression"
   ]
  },
  {
   "cell_type": "code",
   "execution_count": 6,
   "id": "3567bd75",
   "metadata": {},
   "outputs": [
    {
     "name": "stdout",
     "output_type": "stream",
     "text": [
      "Coefficient of Determination: 0.7824890466468288\n",
      "Intercept: [93.40646219]\n",
      "Slope: [[0.18227443]]\n",
      "The linear model is: Y = 93.406 + 0.18227X\n"
     ]
    }
   ],
   "source": [
    "reg=LinearRegression()\n",
    "model=reg.fit(X_train,y_train)\n",
    "r_sq=model.score(X_train,y_train)\n",
    "print ('Coefficient of Determination:', r_sq)\n",
    "print('Intercept:', model.intercept_)\n",
    "print('Slope:', model.coef_)\n",
    "c=model.intercept_[0]\n",
    "m=model.coef_[0][0]\n",
    "print(\"The linear model is: Y = {:.5} + {:.5}X\".format(c, m))"
   ]
  },
  {
   "cell_type": "markdown",
   "id": "9d42f40a",
   "metadata": {},
   "source": [
    "# Predicting the test set results"
   ]
  },
  {
   "cell_type": "code",
   "execution_count": 7,
   "id": "93fd153a",
   "metadata": {},
   "outputs": [],
   "source": [
    "y_pred = model.predict(X_test)"
   ]
  },
  {
   "cell_type": "markdown",
   "id": "13d01588",
   "metadata": {},
   "source": [
    "# Visualising the training set results"
   ]
  },
  {
   "cell_type": "code",
   "execution_count": 8,
   "id": "eaeb1f33",
   "metadata": {},
   "outputs": [
    {
     "data": {
      "image/png": "[encoded data removed]",
      "text/plain": [
       "<Figure size 432x288 with 1 Axes>"
      ]
     },
     "metadata": {
      "needs_background": "light"
     },
     "output_type": "display_data"
    }
   ],
   "source": [
    "plt.scatter (X_train, y_train, color = 'black')\n",
    "plt.plot (X_train, reg.predict (X_train), color = 'blue')\n",
    "plt.title('Cases vs Test (Training set)')\n",
    "plt.xlabel('Tests')\n",
    "plt.ylabel('Cases')\n",
    "plt.show()"
   ]
  },
  {
   "cell_type": "markdown",
   "id": "d7bbb92a",
   "metadata": {},
   "source": [
    "# Visualising the test set results"
   ]
  },
  {
   "cell_type": "code",
   "execution_count": 9,
   "id": "2c1b37bf",
   "metadata": {},
   "outputs": [
    {
     "data": {
      "image/png": "[encoded data removed]",
      "text/plain": [
       "<Figure size 432x288 with 1 Axes>"
      ]
     },
     "metadata": {
      "needs_background": "light"
     },
     "output_type": "display_data"
    }
   ],
   "source": [
    "plt.scatter (X_test, y_test, color = 'black')\n",
    "plt.plot (X_train, reg.predict (X_train), color = 'blue') \n",
    "plt.title('Cases vs Test (Test set)')\n",
    "plt.xlabel('Tests')\n",
    "plt.ylabel('Cases')\n",
    "plt.show()"
   ]
  },
  {
   "cell_type": "markdown",
   "id": "efbd5b00",
   "metadata": {},
   "source": [
    "# Evaluation Metrics"
   ]
  },
  {
   "cell_type": "code",
   "execution_count": 10,
   "id": "6fe4d2e3",
   "metadata": {},
   "outputs": [
    {
     "name": "stdout",
     "output_type": "stream",
     "text": [
      "Mean Absolute Error(MAE) = 154.7285494795334\n",
      "Mean Squared Error(MSE) = 34467.307409007466\n",
      "Root Mean Squared Error(RMSE) = 185.65372985482264\n",
      "Root Mean Squared Log Error(RMSLE) = 5.223883271209436\n",
      "R Squared(R2) Error= 0.7540549598751365\n"
     ]
    }
   ],
   "source": [
    "print(\"Mean Absolute Error(MAE) =\",mean_absolute_error(y_test,y_pred))\n",
    "print(\"Mean Squared Error(MSE) =\",mean_squared_error(y_test,y_pred))\n",
    "print('Root Mean Squared Error(RMSE) =',np.sqrt(mean_squared_error(y_test,y_pred)))\n",
    "print(\"Root Mean Squared Log Error(RMSLE) =\",np.log(np.sqrt(mean_squared_error(y_test,y_pred))))\n",
    "print(\"R Squared(R2) Error=\",r2_score(y_test,y_pred))"
   ]
  }
 ],
 "metadata": {
  "kernelspec": {
   "display_name": "Python 3",
   "language": "python",
   "name": "python3"
  },
  "language_info": {
   "codemirror_mode": {
    "name": "ipython",
    "version": 3
   },
   "file_extension": ".py",
   "mimetype": "text/x-python",
   "name": "python",
   "nbconvert_exporter": "python",
   "pygments_lexer": "ipython3",
   "version": "3.8.8"
  }
 },
 "nbformat": 4,
 "nbformat_minor": 5
}
